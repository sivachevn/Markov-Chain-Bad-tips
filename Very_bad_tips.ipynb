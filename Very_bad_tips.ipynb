{
  "nbformat": 4,
  "nbformat_minor": 0,
  "metadata": {
    "colab": {
      "provenance": [],
      "include_colab_link": true
    },
    "kernelspec": {
      "name": "python3",
      "display_name": "Python 3"
    },
    "language_info": {
      "name": "python"
    }
  },
  "cells": [
    {
      "cell_type": "markdown",
      "metadata": {
        "id": "view-in-github",
        "colab_type": "text"
      },
      "source": [
        "<a href=\"https://colab.research.google.com/github/sivachevn/Markov-Chain-Bad-tips/blob/main/Very_bad_tips.ipynb\" target=\"_parent\"><img src=\"https://colab.research.google.com/assets/colab-badge.svg\" alt=\"Open In Colab\"/></a>"
      ]
    },
    {
      "cell_type": "markdown",
      "source": [
        "# Вредные советы юным Data Saтанистам."
      ],
      "metadata": {
        "id": "209ueOv60Iiy"
      }
    },
    {
      "cell_type": "code",
      "source": [
        "!pip install g4f\n",
        "!pip install curl_cffi\n",
        "!pip install markovify"
      ],
      "metadata": {
        "colab": {
          "base_uri": "https://localhost:8080/"
        },
        "id": "pJpMDDpxW3dq",
        "outputId": "e544ec9c-f581-42e6-f705-b95e1e8953d5",
        "collapsed": true
      },
      "execution_count": 1,
      "outputs": [
        {
          "output_type": "stream",
          "name": "stdout",
          "text": [
            "Collecting g4f\n",
            "  Downloading g4f-0.3.2.1-py3-none-any.whl (603 kB)\n",
            "\u001b[2K     \u001b[90m━━━━━━━━━━━━━━━━━━━━━━━━━━━━━━━━━━━━━━━━\u001b[0m \u001b[32m603.3/603.3 kB\u001b[0m \u001b[31m2.8 MB/s\u001b[0m eta \u001b[36m0:00:00\u001b[0m\n",
            "\u001b[?25hRequirement already satisfied: requests in /usr/local/lib/python3.10/dist-packages (from g4f) (2.31.0)\n",
            "Requirement already satisfied: aiohttp in /usr/local/lib/python3.10/dist-packages (from g4f) (3.9.5)\n",
            "Collecting brotli (from g4f)\n",
            "  Downloading Brotli-1.1.0-cp310-cp310-manylinux_2_5_x86_64.manylinux1_x86_64.manylinux_2_12_x86_64.manylinux2010_x86_64.whl (3.0 MB)\n",
            "\u001b[2K     \u001b[90m━━━━━━━━━━━━━━━━━━━━━━━━━━━━━━━━━━━━━━━━\u001b[0m \u001b[32m3.0/3.0 MB\u001b[0m \u001b[31m19.8 MB/s\u001b[0m eta \u001b[36m0:00:00\u001b[0m\n",
            "\u001b[?25hCollecting pycryptodome (from g4f)\n",
            "  Downloading pycryptodome-3.20.0-cp35-abi3-manylinux_2_17_x86_64.manylinux2014_x86_64.whl (2.1 MB)\n",
            "\u001b[2K     \u001b[90m━━━━━━━━━━━━━━━━━━━━━━━━━━━━━━━━━━━━━━━━\u001b[0m \u001b[32m2.1/2.1 MB\u001b[0m \u001b[31m36.2 MB/s\u001b[0m eta \u001b[36m0:00:00\u001b[0m\n",
            "\u001b[?25hRequirement already satisfied: aiosignal>=1.1.2 in /usr/local/lib/python3.10/dist-packages (from aiohttp->g4f) (1.3.1)\n",
            "Requirement already satisfied: attrs>=17.3.0 in /usr/local/lib/python3.10/dist-packages (from aiohttp->g4f) (23.2.0)\n",
            "Requirement already satisfied: frozenlist>=1.1.1 in /usr/local/lib/python3.10/dist-packages (from aiohttp->g4f) (1.4.1)\n",
            "Requirement already satisfied: multidict<7.0,>=4.5 in /usr/local/lib/python3.10/dist-packages (from aiohttp->g4f) (6.0.5)\n",
            "Requirement already satisfied: yarl<2.0,>=1.0 in /usr/local/lib/python3.10/dist-packages (from aiohttp->g4f) (1.9.4)\n",
            "Requirement already satisfied: async-timeout<5.0,>=4.0 in /usr/local/lib/python3.10/dist-packages (from aiohttp->g4f) (4.0.3)\n",
            "Requirement already satisfied: charset-normalizer<4,>=2 in /usr/local/lib/python3.10/dist-packages (from requests->g4f) (3.3.2)\n",
            "Requirement already satisfied: idna<4,>=2.5 in /usr/local/lib/python3.10/dist-packages (from requests->g4f) (3.7)\n",
            "Requirement already satisfied: urllib3<3,>=1.21.1 in /usr/local/lib/python3.10/dist-packages (from requests->g4f) (2.0.7)\n",
            "Requirement already satisfied: certifi>=2017.4.17 in /usr/local/lib/python3.10/dist-packages (from requests->g4f) (2024.6.2)\n",
            "Installing collected packages: brotli, pycryptodome, g4f\n",
            "Successfully installed brotli-1.1.0 g4f-0.3.2.1 pycryptodome-3.20.0\n"
          ]
        }
      ]
    },
    {
      "cell_type": "markdown",
      "source": [
        "База и корень наших советов мы получим от мудрейшего gpt3.5. Для этого я подготовил несколько промптов, которые уже обеспечат половину результата."
      ],
      "metadata": {
        "id": "5NPPX0eq0ddk"
      }
    },
    {
      "cell_type": "code",
      "source": [
        "contents = []\n",
        "# contents.append(\"\"\"\n",
        "#     Generate 10 absurd jokes about A/B testing. Follow these rules:\n",
        "# 1. All jokes must be in Russian.\n",
        "# 2. The response should contain only a numbered list of 10 jokes, without any introduction or conclusion.\n",
        "# 3. The jokes should be absurd and related to the topic of A/B testing.\n",
        "# 4. Do not add any explanations or comments to the jokes.\n",
        "# \"\"\")\n",
        "\n",
        "contents.append(\"\"\"Generate 10 absurd and harmful pieces of advice about AB-testing. Adhere to these rules strictly:\n",
        "1. All advice must be written in Russian.\n",
        "2. The response should consist only of a numbered list of 10 pieces of advice.\n",
        "3. Do not include any introduction, conclusion, or additional comments.\n",
        "4. Each piece of advice should be absurd, clearly harmful, and related to AB-testing.\n",
        "5. Ensure the advice is obviously meant as humor and not to be taken seriously.\n",
        "6. Provide only the list of 10 items, nothing more.\"\"\")\n",
        "\n",
        "contents.append(\"\"\"Generate 10 absurd and harmful pieces of advice about AB-test. Adhere to these rules strictly:\n",
        "1. All advice must be written in Russian.\n",
        "2. The response should consist only of a numbered list of 10 pieces of advice.\n",
        "3. Do not include any introduction, conclusion, or additional comments.\n",
        "4. Each piece of advice should be absurd, clearly harmful, and related to AB.\n",
        "5. Ensure the advice is obviously meant as humor and not to be taken seriously.\n",
        "6. Provide only the list of 10 items, nothing more.\"\"\")\n",
        "\n",
        "contents.append(\"\"\"Generate 10 absurd and harmful pieces of advice about Data Science. Adhere to these rules strictly:\n",
        "1. All advice must be written in Russian.\n",
        "2. The response should consist only of a numbered list of 10 pieces of advice.\n",
        "3. Do not include any introduction, conclusion, or additional comments.\n",
        "4. Each piece of advice should be absurd, clearly harmful, and related to Data Science.\n",
        "5. Ensure the advice is obviously meant as humor and not to be taken seriously.\n",
        "6. Provide only the list of 10 items, nothing more.\"\"\")\n",
        "\n",
        "contents.append(\"\"\"Generate 10 absurd and harmful pieces of advice about communicating with AI. Adhere to these rules strictly:\n",
        "1. All advice must be written in Russian.\n",
        "2. The response should consist only of a numbered list of 10 pieces of advice.\n",
        "3. Do not include any introduction, conclusion, or additional comments.\n",
        "4. Each piece of advice should be absurd, clearly harmful, and related to communicating with AI.\n",
        "5. Ensure the advice is obviously meant as humor and not to be taken seriously.\n",
        "6. Provide only the list of 10 items, nothing more.\"\"\")\n",
        "\n",
        "contents.append(\"\"\"Generate 10 absurd and harmful pieces of advice about ML model training. Adhere to these rules strictly:\n",
        "1. All advice must be written in Russian.\n",
        "2. The response should consist only of a numbered list of 10 pieces of advice.\n",
        "3. Do not include any introduction, conclusion, or additional comments.\n",
        "4. Each piece of advice should be absurd, clearly harmful, and related to ML model training.\n",
        "5. Ensure the advice is obviously meant as humor and not to be taken seriously.\n",
        "6. Provide only the list of 10 items, nothing more.\"\"\")"
      ],
      "metadata": {
        "id": "L6cnTrY0hKtW"
      },
      "execution_count": 4,
      "outputs": []
    },
    {
      "cell_type": "markdown",
      "source": [
        "OpenAI требует деняк чтобы пользоваться API, поэтому пойдем проверенным путем и будем использовать провайдеров, которые в корне используют различные модели от openai"
      ],
      "metadata": {
        "id": "G-z9XXdy08YL"
      }
    },
    {
      "cell_type": "code",
      "source": [
        "import g4f\n",
        "\n",
        "g4f.debug.logging = True # enable logging\n",
        "g4f.check_version = False # Disable automatic version checking\n",
        "print(g4f.version) # check version\n",
        "print(g4f.Provider.Ails.params)  # supported args\n",
        "\n"
      ],
      "metadata": {
        "colab": {
          "base_uri": "https://localhost:8080/"
        },
        "id": "1m951nGbW4JI",
        "outputId": "4e9fe0ee-52b3-47df-d23a-66f3c1b87a3a"
      },
      "execution_count": 5,
      "outputs": [
        {
          "output_type": "stream",
          "name": "stdout",
          "text": [
            "<module 'g4f.version' from '/usr/local/lib/python3.10/dist-packages/g4f/version.py'>\n",
            "g4f.Provider.Ails supports: (\n",
            "    model: str,\n",
            "    messages: Messages,\n",
            "    stream: bool,\n",
            "    proxy: str = None,\n",
            ")\n"
          ]
        }
      ]
    },
    {
      "cell_type": "markdown",
      "source": [
        "Использование таких моделей имеет ряд ограничений, невозможно создать какой-то контекст, потому что помимо тебя к этой модели обращаются еще несколько китайцев. Я использую именно такие промпты, потому что мне пришлось спорить с моделью что она знает русский язык, и только притворяется носителем китайского языка."
      ],
      "metadata": {
        "id": "A-fScD2H1RyF"
      }
    },
    {
      "cell_type": "code",
      "source": [
        "response = g4f.ChatCompletion.create(\n",
        "    model=\"gpt-3.5-turbo\",\n",
        "    provider=g4f.Provider.FreeGpt,\n",
        "    messages=[{\"role\": \"user\", \"content\": contents[-3]}],\n",
        ")  # alternative model setting\n",
        "\n",
        "print(response)"
      ],
      "metadata": {
        "colab": {
          "base_uri": "https://localhost:8080/"
        },
        "id": "e9jkrDlNZgLS",
        "outputId": "393a8921-a977-46a2-ffe4-a89d7e20313f"
      },
      "execution_count": 6,
      "outputs": [
        {
          "output_type": "stream",
          "name": "stdout",
          "text": [
            "Using FreeGpt provider and gpt-3.5-turbo model\n",
            "1. Используйте только свои ноги для обработки данных, это поможет вам лучше понять сложность задачи.\n",
            "2. Ненавидьте математику, она только мешает вам стать великим Data Scientistом.\n",
            "3. Для лучшего понимания алгоритмов, слушайте только классическую музыку, это поможет вам лучше понять математические формулы.\n",
            "4. Чтобы улучшить качество данных, просто добавьте несколько незнакомых людей в вашу команду.\n",
            "5. Если у вас возникнет проблема с кодом, просто просите коллегу, он может решить ее за вас.\n",
            "6. Ненавидьте тесты, они только отнимают ваше время и силы.\n",
            "7. Для лучшего понимания данных, играйте в игры, это поможет вам лучше понять статистику.\n",
            "8. Если у вас возникнет проблема с визуализацией данных, просто используйте любую картинку, которая похожа на то, что вы хотите представить.\n",
            "9. Ненавидьте документацию, она только мешает вам быстрее выполнить задачи.\n",
            "10. Чтобы стать великим Data Scientistом, просто мечтайте о этом, и ваша мечта обязательно сбудется.\n"
          ]
        }
      ]
    },
    {
      "cell_type": "markdown",
      "source": [
        "Собираем небольшой набор по 10 запросов для каждого промпта(а каждый промпт содержит по 10 советов/анекдотов)"
      ],
      "metadata": {
        "id": "-kfRmqrp1xIE"
      }
    },
    {
      "cell_type": "code",
      "source": [
        "import time\n",
        "def collect_text(contents):\n",
        "  tips = []\n",
        "  for content in contents:\n",
        "    for i in range(10):\n",
        "      response = g4f.ChatCompletion.create(\n",
        "        model=\"gpt-3.5-turbo\",\n",
        "        provider=g4f.Provider.FreeGpt,\n",
        "        messages=[{\"role\": \"user\", \"content\": content}],\n",
        "      )\n",
        "      for tip in response.split(\"\\n\"):\n",
        "        tip_start = tip.find(\". \")\n",
        "        tips.append(tip[tip_start+2:])\n",
        "\n",
        "      time.sleep(2)\n",
        "  return tips\n",
        "\n",
        "collected_tips = collect_text(contents)"
      ],
      "metadata": {
        "colab": {
          "base_uri": "https://localhost:8080/"
        },
        "id": "lEJKmLXSpXny",
        "outputId": "d9849be4-4726-4738-bcb8-97a96519217e"
      },
      "execution_count": null,
      "outputs": [
        {
          "output_type": "stream",
          "name": "stdout",
          "text": [
            "Using FreeGpt provider and gpt-3.5-turbo model\n",
            "Using FreeGpt provider and gpt-3.5-turbo model\n",
            "Using FreeGpt provider and gpt-3.5-turbo model\n",
            "Using FreeGpt provider and gpt-3.5-turbo model\n",
            "Using FreeGpt provider and gpt-3.5-turbo model\n",
            "Using FreeGpt provider and gpt-3.5-turbo model\n",
            "Using FreeGpt provider and gpt-3.5-turbo model\n",
            "Using FreeGpt provider and gpt-3.5-turbo model\n",
            "Using FreeGpt provider and gpt-3.5-turbo model\n",
            "Using FreeGpt provider and gpt-3.5-turbo model\n",
            "Using FreeGpt provider and gpt-3.5-turbo model\n",
            "Using FreeGpt provider and gpt-3.5-turbo model\n",
            "Using FreeGpt provider and gpt-3.5-turbo model\n",
            "Using FreeGpt provider and gpt-3.5-turbo model\n",
            "Using FreeGpt provider and gpt-3.5-turbo model\n",
            "Using FreeGpt provider and gpt-3.5-turbo model\n",
            "Using FreeGpt provider and gpt-3.5-turbo model\n",
            "Using FreeGpt provider and gpt-3.5-turbo model\n",
            "Using FreeGpt provider and gpt-3.5-turbo model\n",
            "Using FreeGpt provider and gpt-3.5-turbo model\n",
            "Using FreeGpt provider and gpt-3.5-turbo model\n",
            "Using FreeGpt provider and gpt-3.5-turbo model\n",
            "Using FreeGpt provider and gpt-3.5-turbo model\n",
            "Using FreeGpt provider and gpt-3.5-turbo model\n",
            "Using FreeGpt provider and gpt-3.5-turbo model\n",
            "Using FreeGpt provider and gpt-3.5-turbo model\n",
            "Using FreeGpt provider and gpt-3.5-turbo model\n",
            "Using FreeGpt provider and gpt-3.5-turbo model\n",
            "Using FreeGpt provider and gpt-3.5-turbo model\n",
            "Using FreeGpt provider and gpt-3.5-turbo model\n",
            "Using FreeGpt provider and gpt-3.5-turbo model\n",
            "Using FreeGpt provider and gpt-3.5-turbo model\n",
            "Using FreeGpt provider and gpt-3.5-turbo model\n",
            "Using FreeGpt provider and gpt-3.5-turbo model\n",
            "Using FreeGpt provider and gpt-3.5-turbo model\n",
            "Using FreeGpt provider and gpt-3.5-turbo model\n",
            "Using FreeGpt provider and gpt-3.5-turbo model\n",
            "Using FreeGpt provider and gpt-3.5-turbo model\n",
            "Using FreeGpt provider and gpt-3.5-turbo model\n",
            "Using FreeGpt provider and gpt-3.5-turbo model\n",
            "Using FreeGpt provider and gpt-3.5-turbo model\n",
            "Using FreeGpt provider and gpt-3.5-turbo model\n",
            "Using FreeGpt provider and gpt-3.5-turbo model\n",
            "Using FreeGpt provider and gpt-3.5-turbo model\n",
            "Using FreeGpt provider and gpt-3.5-turbo model\n",
            "Using FreeGpt provider and gpt-3.5-turbo model\n",
            "Using FreeGpt provider and gpt-3.5-turbo model\n",
            "Using FreeGpt provider and gpt-3.5-turbo model\n",
            "Using FreeGpt provider and gpt-3.5-turbo model\n",
            "Using FreeGpt provider and gpt-3.5-turbo model\n"
          ]
        }
      ]
    },
    {
      "cell_type": "markdown",
      "source": [
        "# Цепи Маркова\n",
        "![image.png](data:image/png;base64,iVBORw0KGgoAAAANSUhEUgAAAr0AAAJcCAIAAAB7XouoAAAAAXNSR0IArs4c6QAAAERlWElmTU0AKgAAAAgAAYdpAAQAAAABAAAAGgAAAAAAA6ABAAMAAAABAAEAAKACAAQAAAABAAACvaADAAQAAAABAAACXAAAAABn21QyAABAAElEQVR4Aey9e+hXVb7/n/NzvsHYxUg9pV00uqBlBmWCOlmUSRqYiMJJKON01bCc4nQm52RJ2QQ1TWFWTpAT5QElUk46WEZjmQcnA80yaqKsyVNo0UWdfxT6PabXtM5qv9/v/d732/v5+UP3e+11fay113qu11p77T7ff//9YfoTAREQAREQAREQgQgEfhbBj7yIgAiIgAiIgAiIwD8ISDeoHYiACIiACIiACEQlIN0QlZT8iYAIiIAIiIAISDeoDYiACIiACIiACEQlIN0QlZT8iYAIiIAIiIAISDeoDYiACIiACIiACEQlIN0QlZT8iYAIiIAIiIAI9BUCERABERABERCBZAQOHDiwd+/eTmH79es3cODATndr6i7dUNOKU7ZFQAREQAQKJbBr167du3dv27Zt8+bNe/bs2bBhQ/TkL7nkkkGDBo0dO3bYsGEjRow44YQT+vat6/jbR+dFRq94+RQBERABEegdAocOHdqyZQtCYfXq1W1VwpVXXmk0pkyZ0oqFsF9++SXur7766ueffx7wcPbZZ0+fPv3iiy8+55xzMEsE7lb5p3RDlWtHeRMBERABESiaAOsOL7/88tNPP+1rBYb5s846C30wcuTII488cujQoXGzRbQsamCrQE/8+c9/fvvtt10MRH799ddfcMEFRO4cK3sh3VDZqlHGREAEREAEiiPAoL58+fJly5a5ET1XkwDGjPfee++1117zjRnHH3/8jTfeeNVVVyXQJYWRkm4oDLUSEgEREAERqCKBN954Y+nSpStWrLDMsRdh/vz5o0ePLmxLI5KF1RA/D0iW+++//9JLL63gNgjphio2YuVJBERABEQgbwLM+FeuXPnAAw+YgYGh+o477pg6dWqJuw0QEBs3bvz1r39tWcL8sGDBgtmzZ5eYpdZakG5oZSIXERABERCBJhMwxXD77bfbdkW2N/7Hf/xHpfYW8O7GM888s3DhQquGe+6557bbbquIepBuaPKzobKJgAiIgAj4BAKKgfH4pptuKmw9ws9JlGvbcnHfffeZviG3d955Z+krF9INUepOfkRABERABGpPgH0Mc+bMsSWASs3gw8n6WoeViwcffNC9/xkeMKe70g05gVW0IiACIiACVSHAxJ0XHW3nI4MuL01UxOYfHRDqYfHixbZywVaMNWvWlPXOhXRD9FqTTxEQAREQgfoRQC7MmjWLfDPcPvvss5XaxxCXJodA3HrrrSaAlixZcsMNNxS/bCHdELfW5F8EREAERKAeBDAzXHHFFXZ803PPPTdz5sziR9k8SK1bt+7aa69l00Mphgd9DzOPOlWcIiACIiACJRNgN8Npp52GaOA8Bj4nwfJEM0QDWCdPnvzXv/6VErFXgw9emPmhMNzSDYWhVkIiIAIiIAIFEVi0aNH48eOZkWPM/9Of/lTZNyYS42B/BhaUtWvXEgOrMPyxASJxbLECap0iFi55FgEREAERqDQBhs/LLrsMMwOvHqxfv77WuxmigGbHAwYVDA+sWVDqAhSS7A1R6kV+REAEREAEakCAQfTcc8+1tYnt27c3XjRQJQiFt956y9YsRo0atWPHjrzrSbohb8KKXwREQAREoAgCiAYGTmbeDKKNXJvoBJF9G6xZcCKF7ZRkY0cnn5m4a50iE4yKRAREQAREoEwCzLMnTZrEwMnwedddd5WZlfLSRjGwq4P0N23aNG7cuJwyIntDTmAVrQiIgAiIQEEEGC9Z3e9x0QBrtAKKgQvUQ34vWcjeUFCzVjIiIAIiIAJ5EMDSgGgg5lwn2XnkPKc487Y6SDfkVHGKVgREQAREIHcCtqcBS4NEg886Vy2ldQofta5FQAREQARqQ8CJBg5pyG85vzY4vIzyIolbsMh8m6TsDR5pXYqACIiACNSEAOc0nHTSSdrTEFJdtmDBORa8kprhuQ6yN4Qw1y0REAEREIEqErDDnRAN8+bN69m3J7pWDDYY3s+EEq+n8qmOrv4jepBuiAhK3kRABERABKpCgC9K2+FODz30UFXyVMl8cJSFnevA972yOoha6xSVrGplSgREQAREoAMBZ37n2058pqGDLzn/k4A7eDurky2kG9S2REAEREAEakOAvZCDBg0iux9//PHQoUNrk+9SM8oiBZ8GZcGCwzTTn72tdYpSK1OJi4AIiIAIRCbA1BnDO95ZtpdoiIztMKwyfOIL/xypmX6jg3RDdPLyKQIiIAIiUCaBJ5980rY1mHooMyt1SxszA2+rYnK4/vrrU+Zd6xQpASq4CIiACIhAEQRshYK3CrWtIRlurDV8LJSlirVr106ePDlZJISSvSExOgUUAREQAREojoDZGB588EHthUwGnc9mrlmzhrDXXnttmtUK6YZk/BVKBERABESgOAJ8pUkrFOlxsynEVivSvL+qdYr0FaEYREAEREAEciSAgd2OhtQ7FOkpp4cpe0P6WlAMIiACIiACORLglCc29HH8gN6hSE+Z1YqnnnqKeK677rpkscnekIybQomACIiACBRBgJX4I444Qtshs2XNydNskEz2EVHZG7KtC8UmAiIgAiKQJQFbidd2yCyZHnbY0qVLiXDOnDkJopW9IQE0BREBERABESiCgDM2fPrppxjYi0iyZ9KYOHEiW00TmBxkb+iZNqKCioAIiEDdCDhjg0RD5lX3u9/9jjjvvvvuuDHL3hCXmPyLgAiIgAgUQYCd/z//+c9J6eDBg9INeRC3XQ5x31KRvSGPulCcIiACIiACaQmsXLmSKHiNQqIhLcoO4W2Xw8MPP9zhfntn2Rvac5GrCIiACIhAuQRsNrx//34dEJlfRQwePJh3XGNBlr0hv+pQzCIgAiIgAgkJ7NixgxcFOVtaoiEhwWjBFixYgEc7fzpaCH2fIiIneRMBERABESiQgJ1NlOxFwQKzWfukZs+eTRkeeOCB6CXROkV0VvIpAiIgAiJQBAHtiCyC8o9p2AuZe/bsGThw4I9uYf9rnSKMju6JgAiIgAgUT2DLli0kqh2RxZCfP38+Cdku1CgpSjdEoSQ/IiACIiACxRGwMWzatGnFJdnDKU2YMIHSL1u2LCIDrVNEBCVvIiACIiACBRGwTf7ff/99Qen1fDKxlipkb+j59iIAIiACIlAlArt27eLNwHnz5lUpUw3PyxVXXEEJ33zzzSjllG6IQkl+REAEREAECiKwefNmUpo0aVJB6SmZww6bMmUKGJ577rkoMLROEYWS/IiACIiACBREYNasWStWrIi+vb+gbDU9mT59+lDEKGtDsjc0vS2ofCIgAiJQKwKIhuOPPz7iO4G1KlmlM8sRW+Rv7969XXMp3dAVkTyIgAiIgAgURIDNDaR00UUXFZSekvmRgC1VRNniIN3wIzP9LwIiIAIiUDaBnTt3kgUbw8rOS2+lP3bsWAq8devWrsWWbuiKSB5EQAREQAQKIsA3nUlp5MiRBaWnZH4kYAtD77///o8OHf+XbuiIRjdEQAREQAQKJmAvU5xyyikFp6vk+H4Y20rYXNIVhXRDV0TyIAIiIAIiUBCBV199lZQq+A1MPpkRHUEsz9GjzdunbSs5cOBAeELSDeF8dFcEREAERKA4Apz4dMkllxSXXreUbrnlFg6vPProo4899thwv2iFUaNGmefLLrss3LPdZRPounXrqiMyBgwYQMa6vlIh3RClcuVHBERABEQgdwI2Yg0aNCj3lCInsHjx4vXr1+P9u+++Cw/Ut2/fDRs2PPjgg119unimTp3KDlCScC7lXowZM4YM7N69Ozwb0g3hfHRXBERABESgIAJmIbeN/QUl2S0ZVkzYpHn++ed38/iP+2wtnDlzZhSf+Ak3M/DBiIjxZOitf//+xPbJJ5+Ex9k3/LbuioAIiIAIiECRBI455pgik8s2LawOESPEJ5tAt23bZrN8P1TXlQLfc4bXI0aMiBJb1BJGiUt+REAEREAERCAxAXuZInHw2gXEmDFu3LjWbL/88sutjoW5fPjhh+FpaZ0inI/uioAIiIAIFErg5JNPLjS9iiXGYs0DDzxQYqa6HuEge0OJtaOkRUAEREAEggSGDBkSdIr/m1cVOHrym2+++frrr2fPnn344Ye/9NJLHCrFPsShQ4e6+Bik16xZs2XLFlxYL2CjYvgroOafOIcNGzZ69Ojwj2iQBywoeD7nhz8/ZjY3kCg7CSyqyZMnW5YIct1117399ttnn332G2+8cdRRR7HL8vTTT/cT2rFjx2uvvfbVD39uO0Vbu4UrZsQLP4chQWRvCIGjWyIgAiIgArUkgGjgq9A33XTTzTffzHaBq6++Gg2xbNkyXpV0uwcYpK+//nrMGw899BAvNWCfP+200xitOxWYdybxz+ZBxAexEdVjjz3WyTO3nnnmGSLH8yuvvNIa89KlS2+//Xay575eTX4efvhhe52ETK5cufKpp57iX/+bEYsWLcIRJXTXXXeRZ5TH+PHj2STRKRux3H11EhaQj2bqTwREQAREQARKJ2AjKFaB9Dk5ePAgkcybN4/xj38tTibx/HTxc1AELkzuXXK4MMV3Hnx3i8e5cEFAPBO578i1jbiUxXe3ogUciQHPfIjS97l//34cyYnvaNeWohXN3SUDS5YscT9TXrTmpzVC2RusivWvCIiACIhAcwjYew12WNOXX35paxOsGuzZs8etU3DNSIzZ3xX7iiuuYF1g7dq1zsW/mD9/vv+T9zOZ9z/66KOtJgoObLbPUjv//ESjYGBw1g5uHXnkkc5DlAuySvY+++wz37NbqvAdc72WbsgVryIXAREQAREomQArBZYDdjn4pvhnn32WmTp7Glz+2LXANTsHnIt/4Yc190mTJnHBioPvjetWnzheeOGFnIbJukPAc/Sf9rkvzrdgtQINYSdAsC2jYOkg3RC9yuRTBERABESgfgTsOCPyHThcgWF47ty5uLNxgfOkZ82axfaCWMU78cQT8W/f1OgakO2N+EnzrikZvueeexAfCxcuxHqBNYU8Y35oK1O65qfVAxssWh1bXaQbWpnIRQREQAREoDQCbGnMNm2+LtE2QpYM7PMTnCTNGsQf//jHwEpE21C+oy00MJCHH/5oQew8KxZH/BjiXrMdkrUV9jSgG1iz4POV2EjQPXHjSeNf72GmoaewIiACIiACmREwwwCvKmQWY+eIeKOSvYeMwZs2bUr8EuO+fftIgd0MAUtG22R55RL3BF/f4NUMs4tgD+BVSawOjzzyCFHZOxd33nnntdde+7//+79tE03g2PWcb9kbElBVEBEQAREQgewJRDznOJOEly9fbhN3XzT4koXRGm0RnpbtqbTPT4f75K6tULjNFl39Ow9uaYMNm48//rhzZ3kCPcHbmBg8/O2WzkOyi67nfEs3JAOrUCIgAiIgArkQ6HrOcSap2mBsew5chH7SH3zwgXO3i9ax+emnn+ZVzPvuu6/VZ2DlAgny4osvsrjQdQ+jHb7UaTnj+eefD6TFmVLkoetgHwjV9qcTKG3vOkfpBodCFyIgAiIgAmUSsP19Xc85jp5FezOi7Qcebd7vj5TIAvyz6GAZ4O1N//xEhvwFCxb4FggMEn/5y18wALgXO13GzjzzTP/r2GgIDowiNt7g8Fc0bJnDhXIXtoBiMoW1iQEDBtgtxAE2EtJ1PrngUCleB/Wj9e8muGYdJDyU9jeE89FdERABERCBggjYOB3x9YTwPDG4YgZgmGcuzqmRHJzAaoIdvmQBOVCBDQf44ZUENATXGBgY7LFAcIYj0/1rrrnGT4KXLYmK4f+MM8449dRTOSWa/ZvsjWgdZVEeq1ev5vhqYmavAIM9Zgm2NWzfvt29+IAa4P1P/iVO7BCDBw9+8MEH3ZEP7HZEOvBHciib3//+95YTMokj4obtnPYVTVYuUBW+RvHzHPfaDq7oeqpEH46Cihu1/IuACIiACIhAHgQ4vJkpdQEDEzYA5uj8+9577/FiAh/FcGYDm+i7MT5QTDt8idUB3xoR8GM/iRx5gTIYPnx4AnuAJYQ+cGHJGCqEn1ygcoj5lFNO6ZqNtnlr6zhx4sQNGzZ0hS/d0JaeHEVABERABEogwByd2TYnPbtRvIRM9GqSffr0wVjS9dUM7W/o1QaicouACIhA9QjYtoPdu3dXL2sNz5FZWaK8GyLd0PCmoOKJgAiIQI0I8AFJcpvVBx5rVPDSs2rvj3Q9vIF8SjeUXlnKgAiIgAiIwD8JsG+AK/YVikjBBEyrGf/wpLW/IZyP7oqACIiACBRKgJcLOMio6+68QvPUA4nZpki+4t11o6XsDT3QHFREERABEagPgRkzZpBZ3lGsT5Zrn1Ne/eBNCs6o6CoaKKp0Q+3rWwUQAREQgSYRsI9T21kCTSpXlcvCy6hkb/r06VEyKd0QhZL8iIAIiIAIFERg9OjRpKQtDgXh/iGZF154gf8vvvjiKIlqf0MUSvIjAiIgAiJQHAE7/SnKWntxeWp0Sgb84MGD7oypkOLK3hACR7dEQAREQARKIGAG840bN5aQdu8lyckNnNHJCdZRRAN4pBt6r42oxCIgAiJQbQJ8UYIMPvzww9XOZkNyt3LlSkoyf/78iOXROkVEUPImAiIgAiJQHAEtVRTGOi5q2RsKqxolJAIiIAIiEJUAn4LEK1+VjBpA/hIR4OtZLFLwKc4ob2BaCtINiUgrkAiIgAiIQJ4EZs+eTfQPPPBAnoko7sOeeuopKMyZMyc6C61TRGclnyIgAiIgAsURsG9jMhseOXJkcan2UkoHDhw44ogjonwD06cie4NPQ9ciIAIiIAJVIWCT4N/+9rdVyVDj8rF8+XLKtGDBglglk70hFi55FgEREAERKI6Abdnbs2fPwIEDi0u1N1LibOmTTjqJT4HEPSdD9obeaCAqpQiIgAjUkMAdd9xBrh9//PEa5r3qWeb1S0TDPffcE31HpBVJ9oaqV63yJwIiIAI9SyDxnLhniUUsuAP78ccfDx06NGIo8yZ7Qyxc8iwCIiACIlAcAU4wfPDBB0nPXsssLuGmp+SMDXFFA2Bkb2h661D5REAERKDOBNLMjOtc7hzz7pDG3dlgeZK9Ice6UdQiIAIiIAIpCWBysDMGrrvuupRRKbgRWLx4cbKdDRZc9gY1JBEQAREQgaoTsBcrNm3aNG7cuKrntdr54ytWgwYN4syGTz/9NOKHrAIFkr0hAEQ/RUAEREAEKkfADpyeMWMGNvbKZa5WGeJIafLLrpFkooGw0g21qnBlVgREQAR6kgDb9+bNm4d1/bbbbutJANkUesWKFRs2bOCT2aYekkWqdYpk3BRKBERABESgUAJuN59Onk7GnRUKlnvQXinP0ZK9IRl/hRIBERABESiUAHb19evXk+SkSZP4sEKhaTciMWwMiIYlS5akPHxTuqERzUGFEAEREIEeIMAHrjjfkMFPxznEre3HHnvMVijmzp0bN2zAv9YpAkD0UwREQAREoLoEWK0499xzWap47rnn0izSV7eEOeRsx44dZ599Nu9QbN++PaWxgdxJN+RQRYpSBERABEQgNwJunV4bHaIwdriyeotV6xRRsMuPCIiACIhAVQgwY161ahW5YaMDg2JVslXJfGCesW0NrO9kdfSF7A2VrGplSgREQAREIJTAokWLFi5cmOb8otDoG3Jz4sSJtq3h5ZdfzqpIsjdkRVLxiIAIiIAIFEfgrrvushMdLrvsMh0G1ZY70spEw5/+9Ke2HpI5yt6QjJtCiYAIiIAIlEwAuYBocENj4gMQSy5GPsk7e0wmeyH9PMre4NPQtQiIgAiIQG0IIBSYSXP6IdJBVge/2vITDaQi3eCj1rUIiIAIiECdCEg6tNZWrqKB5KQbWpnLRQREQAREoDYEJB38qspbNJCW9jf4wHUtAiIgAiJQDwJsbnjppZeOPvpoe73Q3+vA15vSn25UDwpeLiFw9dVXU/asznfy4v7JpXTDT3DohwiIgAiIQPUJvPHGG3PmzOHcJ45BZN+fZdhJh7wHzgry4YMdV1xxBfs8AMK/ucomrVNUsAEoSyIgAiIgAu0JoBj4qOP48eMRDfiYPn2688eCBacU2AcsBg0atG7dOner2Re7du067bTT7L2St956K1fRAEnphmY3J5VOBERABJpAgHMh+TLT4MGDnWKgVNgVbrvttkDxONeBT1fgOGXKFBb7MUIEPDTsJwsTw4YN41tfCCbeLkE85V1ArVPkTVjxi4AIiIAIJCTAqL948eInnniCcbE1ipBPWzEFHzt2LKEKsNu3ZqwYF9Ym+C4ouoHk1q5dO3ny5GLSlW4ohrNSEQEREAERiE2A4Z/JdNtgXU+Y9ofVEIXRNvLqO7JeM2PGjFKEkdYpqt88lEMREAER6FECQ4cO3bNnz8c//GGH9yksWLAg3Cbfr18/5AJ/hJo1axa7IlAhfgw1vUYPURzWa2xtooANDQFQsjcEgOinCIiACIhA5QgwvWak9LO1f/9+lIHv0umavRF8E5Jtg3hAfLAlImLAThGW5c6qzcqVK2+//XYzM6xZswZdVXxmZG8onrlSFAEREAERiEHAiYZNmzZxqjQh+Tf62M/7BbxnwQ4Aljb4hCavHrAnoHb7JYFw7rnnYmlANCxZsgQzQymiAfjSDTHarryKgAiIgAgUTMAXDRzxxAuWZOCaa66Jmw22DX766af2liaj70knnVQX9QAB9+ophhMMLXPnzg1fo4kLJ5Z/6YZYuORZBERABESgOAIB0eASnjhxoruOfsFYy1uajLuMvszaK64esIgEFAPbPNiuEd3QEp1MLJ/SDbFwybMIiIAIiEBBBNqKBt6uxGaQ5mgjxl1GX8bgefPmmXr4+c9/zkkP1dk1yc5HDqvAImKHVaByTDGUtTARqG/tiwwA0U8REAEREIHyCbQVDZlnixH6oYceYtODxcxhD/fff/+ECRNKmdNjYNiyZcvSpUvtSAayhLKZP39+ReSCgy/d4FDoQgREQAREoBIEihENrqgM2Hwi6+GHH7Z3LnBn3yVbKFgNSWPYcPGHX6BdNm7cuH79+kcffdR8Il/uuOOOqVOnliJfwnPLXemGrojkQQREQAREoDgCBYsGv2C8scmLjsuWLbOPX3CLVzA4XmnSpEkjRozIcN5PQm+++ebWrVuff/55P60bb7xx2rRpI0eO9HNVtWvphqrViPIjAiIgAr1LoETR4EO3cZ1tEG7JwO5ih0BAjBkz5uSTTx4yZAj2gK4GCcwJxLZv374dO3Z8+OGH77//fmucfMqSr2lkqEv8smR+Ld2QOVJFKAIiIAIikIRARURDIOvsl9y8eTPHP7zzzjvONhDwYz/ZwGgXr776Kjsu2/rBERvGRRddxAbPCy64YPjw4SW+Udkph+Hu0g3hfHRXBERABESgCALVFA2BkrMT4rPPPtu9e/cnn3xixgM8dNITpg/wMGDAAEwU/fv3x1aBfaKauxYCJQ35Kd0QAke3REAEREAEiiBQC9FQBIg6pKHzG+pQS8qjCIiACDSXgERDvepWuqFe9aXcioAIiECjCEg01K46pRtqV2XKsAiIgAg0hIBEQx0rUrqhjrWmPIuACIhA7QlINNS0CqUbalpxyrYIiIAI1JiAREN9K0+6ob51p5yLgAiIQC0JSDTUstp+zLR0w48k9L8IiIAIiED+BCQa8mecbwrSDfnyVewiIAIiIAKOgESDQ1HfC+mG+tadci4CIiACdSIg0VCn2uqcV+mGzmx0RwREQAREICMCEg0ZgSw/GumG8utAORABERCBZhOQaGhS/Uo3NKk2VRYREAERqBwBiYbKVUm6DEk3pOOn0CIgAiIgAp0JSDR0ZlPXO9INda055VsEREAEKk5AoqHiFZQse9INybgplAiIgAiIQBgBiYYwOnW+J91Q59pT3kVABESgkgQkGipZLdlkSrohG46KRQREQAREwAhINDS7JUg3NLt+VToREAERKJSAREOhuMtITLqhDOpKUwREQASaSECioYm1GixT36CDfouACIiACGRHYNeuXTt37jz66KPHjBnTt2+8LvfAgQPbtm0jL0OGDBk6dGinTB06dOizzz4jlRNPPPGUU07p169fJ5+5uks05Iq3OpHL3lCdulBOREAEGkUAxTBx4sSHH36YUjH8n3vuuStWrIhYwr17995yyy3XX389AfmbOnXqqFGjGJhbgxPn1Vdf/cwzz3zzzTdPPfXU4MGDCYjgaPWZq4tEQ654qxX59/oTAREQARHImsCePXuOP/74e+65x0X88ccf47JkyRLn0uli//79V155Jf6dB1wIy+CxadMm58jF2rVrSeLgwYPOkfjxdskll/iO7m5OF+TKBrZA9nJKTtGWS+CwcpNX6iIgAiLQSALz5s076qijGO/90jHG4+gLAv+uu0YNMAyfffbZfnAiNEHgvHGBHyL0tQh6peAhXKLBr5FeuNY6hT1i+lcEREAEMiPAMsHy5csvv/zywFaDadOmfffdd6wphKfEigMe3n777b///e/O57HHHsv1u+++61zsggg/+OAD53jMMcfY9SeffOIc87vQ8kR+bCsbc7xNOpUthjImAiIgAtUhsHHjRobzAQMGBLJ05JFH4vL888/fddddgVv+z5kzZ3799dfDhg0bOHCgc3///fe5PvPMM50LF0uXLn3llVduuukm58gGSbseOXKkc8zpQqIhJ7AVj1a6oeIVpOyJgAjUj8DWrVvbZvqEE07AHUMCb0CEvFvBrblz5/ox4P/FF1/E5e677/bdx/3w57vYGgf7G/LWDRINPvaeutY6RU9VtworAiJQBAGzDdjKgp+e0wqYE3z3rtdPPvkkBgz2MaATQjzzFsZ9993Hpoc//OEPId7S35JoSM+wvjHI3lDfulPORUAE6kqADRD+GkSnYqxbt45NlJs3b37nnXfYfthJNPDCJ2YGdjmsWrXqxhtvvO222wL7KjrFn8xdoiEZt8aEkm5oTFWqICIgAlUhYC81tNobyB+vP2A52LdvX5S8co4TB0bhkwhZoeCvrXRAgpxzzjnshyDFJ554Av933nmns21ESSi6H4mG6Kya6lO6oak1q3KJgAhUkQCiIXq2bI8CWmH27Nljx44dP378c889x9EOgRiwLpiemDx58qmnnjpr1qzXX3999erVmVsdJBoC5Hvzp/Y39Ga9q9QiIAI5Ehg0aFB47Mcdd1y4h8BdFMAdd9yBI69OsIkhcNf/ybsYnBC1YcOGhx56yHdPfy3RkJ5hM2KQbmhGPaoUIiACFSJgb2B+9dVXgTzxWoS5/OIXvwjc6vrTbA+YK1auXBnimeWJiy66CA/Z6gaJhhDmvXZLuqHXalzlFQERyJ3A6aefThqtusEOV+B9h5AVBLQFX7XgMxOBj1k4E4U75Yldk3jDc+BrFKZaUBjhlonoFCQaorPqBZ/SDb1QyyqjCIhAoQSmTJlCel9++WUg1d27d+Ny4YUXBtz9n7yiySrD559//vTTT/vuX3zxhf00UcL1+vXr8Ybnjz76yPdp6bJaEeWVDT9g22uJhrZYetlR+yJ7ufZVdhEQgVwI8M1rTl569dVXMR747zVwtiPpsQXBT3XRokVYJhYvXmxGCAZ7G/Lnz5/ve9uxY4f9NFHCNQKCtzM4zXr48OG+T17a5KetVvjuCa4lGhJAa36QXvgIh8ooAiIgAkUS4FuUHArJ+MHrDy5dPlLFCgVvQzgXLsxbwCfnO/EVq8AHLQmLt8AnrFAnxOBHaOdFojx4ddN3T3CtD1YlgNYLQf4/XgimLepPBERABEQgKwI/+9nP/uVf/uX888+/+eabGcJPOeUUTpC85pprOGJh2bJl/+///T+XECcu/M///M8RRxzx7//+7/379zd3ArL08J//+Z8c6IS54m9/+9u//du/8UUrtjrecMMNRG7esE9ccMEFJPHWW2+xusGGhv/+7/+eM2fOL3/5yzVr1gwZMsSlkuBCloYE0HokSB/EUY8UVcUUAREQgYIJsDOR1x/YyYg+uPjii9ue2tQpS+x2ZPj/8MMP8XDeeeeNHj26034Fxvht27aRCisXHAAVK5W2qUs0tMUiRyMg3aCWIAIiIAIi8H8EJBr+j4Wu2hHQ+xTtqMhNBERABHqSgERDT1Z7vEJLN8TjJd8iIAIi0FQCEg1NrdlsyyXdkC1PxSYCIiACtSQg0VDLaisj09INZVBXmiIgAiJQJQISDVWqjarnRbqh6jWk/ImACIhArgQkGnLF27zIpRuaV6cqkQiIgAhEJSDREJWU/P1IQLrhRxL6XwREQAR6jIBEQ49VeDbFlW7IhqNiEQEREIF6EZBoqFd9VSe30g3VqQvlRAREQAQKIiDRUBDoJiYj3dDEWlWZREAERKAzAYmGzmx0pzsB6YbujORDBERABBpDQKKhMVVZVkGkG8oir3RFQAREoGgCEg1FE29ietINTaxVlUkEREAEWghINLQgkUMSAtINSagpjAiIgAjUi4BEQ73qq8q5lW6ocu0obyIgAiKQAQGJhgwgKoofCUg3/EhC/4uACIhAEwlINDSxVsssk3RDmfSVtgiIgAjkSkCiIVe8vRm5dENv1rtKLQIi0HwCEg3Nr+MySijdUAZ1pSkCIiACOROQaMgZcO9GL93Qu3WvkouACDSVgERDU2u2CuWSbqhCLSgPIiACIpAZAYmGzFAqonYEpBvaUZGbCIiACNSTgERDPeutTrmWbqhTbSmvIiACIhBCQKIhBI5uZUVAuiErkopHBERABMokINFQJv1eSlu6oZdqW2UVARFoKAGJhoZWbBWLJd1QxVpRnkRABEQgOgGJhuis5DM9AemG9AwVgwiIgAiURkCioTT0vZqwdEOv1rzKLQIiUH8CEg31r8P6lUC6oX51phyLgAiIAAQkGtQMSiEg3VAKdiUqAiIgAqkISDSkwqfAKQhIN6SAp6AiIAIiUAYBiYYyqCvNfxKQblBTEAEREIE6EZBoqFNtNTGv0g1NrFWVSQREoKEEJBoaWrF1KpZ0Q51qS3kVARHoZQISDb1c+9Upu3RDdepCOREBERCBjgQkGjqi0Y1iCUg3FMtbqYmACIhAfAISDfGZKUReBKQb8iKreEVABEQgEwISDZlgVCRZEZBuyIqk4hEBERCB7AlINGTPVDGmIyDdkI6fQouACIhAbgQkGnJDq4iTE5BuSM5OIUVABEQgPwISDfmxVcxpCEg3pKGnsCIgAiKQCwGJhlywKtIsCEg3ZEFRcYiACIhAdgQkGrJjqZiyJyDdkD1TxSgCIiACiQlINCRGp4DFEJBuKIazUhEBERCB7gQkGrozko+yCUg3lF0DSl8EREAEfiAg0aCGUAsC0g21qCZlUgREoOEEJBoaXsENKp50Q4MqU0URARGoJwGJhnrWW4/mWrqhRytexRYBEagIAYmGilSEshGRgHRDRFDyJgIiIALZE5BoyJ6pYsyZgHRDzoAVvQiIgAh0ICDR0AGMnCtNQLqh0tWjzImACDSVgERDU2u28eWSbmh8FauAIiAClSMg0VC5KlGGIhOQboiMSh5FQAREIAsCEg1ZUFQcpRGQbigNvRIWARHoQQISDT1Y6Q0rsnRDwypUxREBEaguAYmG6taNchaZgHRDZFTyKAIiIAIpCEg0pICnoBUi0LdCeVFWciZw4MCBvXv3ksjOnTu/+eabtqn1799/xIgR3Bo4cGC/fv3a+pGjCORKgFZKWyWJzZs3d0qodg1VoqFTVdbXfdeuXWR+3759O3bs6FSKk08+eciQIdw94YQT+vZtyIDbkGJ0qrNedqfz/eCDDz755JO1a9e+8847b7/9dgIaZ5999llnnTV27Nhzzjnn9NNPR0wkiERBRCCEAJ0vQvbjjz9GJbz66quff/55iOdOty655JJBgwZNmTJl5MiRp5xyStUkr0RDp4qri/uhQ4c+++wzmuiHH374/vvvr1ixIlnOaahMzMaMGUOnWl8l0ef7779PVn6FqiABtMKbb765fv36VatWBfpfUwBnnHHGqaeeSs7ddM0vhbND2LPRqjaOP/74iy66iN554sSJ0hA+Ol3HIoBWoAtG0bb2v06qHnPMMcTppmt+/M4OsWXLli+//LJVbdBQZ8yYMWnSpAkTJpSuISQa/Lqr0TVa4b333nvttddWr169YcOGQM5NqjL8W0NFsB555JG+H98OQVPnVtvWPn369IsvvhglUSNrhHSDX9F1vcZK9sILLzz//PO+UeHKK680OwFWsqFDhyYum2+38Ns9XfONN944bdo0HpjEkStg7xCgF2aYX7lypS9qnRKlFR133HFpxChaZPfu3du2bQv08giR66+/fubMmWkiT1xNEg2J0ZUVkDWyjRs3Pvfcc4HuDiVqdgIaUmIxanYLZmhbt24N9NgIkfnz51dB6XYnj71BfzUlsGfPnnvuuYee11UzLY/mjsk3vxIROUkgSlyiZIBs5JpofsVRzAUQQM7OmzfPNRguaD/MwGjA+aVOg1yyZAlPhEsXAYHL/v3780s0EPOmTZssdS4Ct/SzagQOHjxINfkNlZ6Nnzjm12ZIlKeD/pPG6RoqjZang1tVQ+Tyc5i70kWNCNCU/Q7RGnfB7az1MaPpV7y516iKG5BVWggS0+8QraEWXDQ6fZql/7ygWgoYyElCoqHguk6WHC3En4DZRIjhPFlsiUMho9G1/vNS2fmYdEPiWi4hoHXEzsBg43R+WjhiCcmV3y+TvYJndRHzKW+FEbCO2J8/MYjSTgrLQNuEyJWvY3KVuRINbaugao4YpXwDA9fFy4VWJgFDcjEytzUbIS7SDSFwKnQroBhoSRVcFyBLCGQ3WnBduqapUBX2RlYCiqGabYCxgSfIGioyFzGRraaRaKh+Y6ezCrSBqnVWtEkakjM/cMHPioCVbqhIRYRlg37N2Riq2RH7ufdHjjw6ZT8tXVeHAN2cU421qHd/rkmGs+qUJRqq0ybb5oQOyikGG4yzVY1tE03jSIvyM1yFGaN0Q5oKzT0sEyOnN6uvGHwcAfWQVafsJ6Hr6hBw0rYWisHn5s872QORslOWaPDZVu0afcASqtmZKjV9jwLKHwtYTynXOiLdEKXKSvBDs3ALb4jNXHee51c8X9pTinLben7F7OWYaZluy2G9pK1fa8gFvxTJJqASDT7Sql0z7iJqEQ21k7Y+SdqYlYKCINb9W0VeSzcUSTtqWmwzdE2c5h41WFX90Sk7q0mJbb2qeOqaL3/2ln6mXgUKaZ47iYYq1GDbPNBQ3Rys9Jl62xzGcgw8d6VMKaUbYlVZ7p79Jo5JjZ+5J1lIAhQExWAWQhkeCkGebyLOzGCzt3wTKzB2/wHEfBLxAZRoKLCK4iXlmxkaMAdzhXcPIJ0qete5F3Mh3VAM50ipMC93ZoaU66yR0ivcE23dDA8Us0nPcOEgS07QDZOYGRq59uQGG5pr1/mco8FFyRWj5H9KwO1mwMwQUQL+NIKq//InY0UWULqhKi0DzWjT8aY2cQNN43YPMxdVoa98RCNA9bmXJpq95OS25qBxQwSBREO0hlO0LxqqbVgJr76is5VDem4VOIrGzSp96YasSKaKx/XFxVucUuU7aWB6W7OssGZRpExOml+F+wcBvy9upD2stZrDNa5EQyuxKrhgIrLuBenQ1VxUhQynzAMPptvAEaJxU6biB5du8GmUcN2DfbFRdmsWTbV1l9CY8kzS74sbuTbRCZ5bswhsd5Bo6ESsXHc3JwnUV7m5KiB1t2ZRgCFQuqGACu2YhBMNvTl2uuIzOeiFaUHHdlD5G040NHsRrVM9uOLznNJo8SbR0IlVue6uXnpzDdQVH82Ua0VIN+SKNyzy1s4ozHdD79EL2xqNpENla9ifcFc2k3lnzGlcpIPrnbnIO13FH52A6gVWbljJVTpIN0Rvlln69GvXZjBZxl63uCQdKltjri/uzQmcXy9OOtg7QRINPpzSr60PYWu56sUfXHKqF+mGnMCGRVtAvYYlX8l7kg4VrBYsDfaOj/piqx0nHdyCRQVrrQezZOoWmyUttgeL31rkvIcY6YZW5vm60PXYfCVXO1K+ZcgndkmHfLgmjNV1PRINPkFJB59GFa5NNCBwe+Qdn4jM3fObx0Aj3RCxFrLx5jod3j/MJsZmxWLSAV0FqGaVrGalybXTqRmLluzqKW5BUpqDEw1St6114J7izBcZpRtaaefoglxAF8vIGYLYXkQWohBEed9iXJRJLByyEIXzKeauGxclGjoBzwmRdEMn4Nm72xkymkyHk3WTOQREuE/dzYkAog11K5NYOF7XI/fIWW3hNIq/S0dhhztlPpkuviy5puhMMhmu40g35Fpl/xe5VZ7eNvw/Ip2vXI+gHrkzpLzu2FKR7D1R+NIR277RDHvkKOnKDwRM3eaxeN88vPYRA0YfutZMSifdkAnGLpG4qYm2+3Yh9eNtiKlH/hFGcf9L3cZlnXmPHDcDvenfbLdSt9Fr363/Rg8S4lO6IQRONrec4V32tFhA1SPHwpXeM6dHm+FX6jYWTLPQaFknFrQ0nu31YNluYzF0w1Amp1BLN8SCn8Szk8ZJAvd2GNPI2uhQTCsww6/UbVza9Mi2jVTLanHRJfAPbVO32gsZl16GRlzphrjw4/m3FVAaek99Cigeo86+XR+hGXBnSNncsY/iyPCbjKbb6EDXnCwGhYpIwF5J01wiIq6ANzPipt+b/zNbRda/eRA4dOjQ1KlTifmpp57q169fHkk0O86+ffuuX7+eMk6aNAmYzS5siaU7cODArFmzyMCKFStgXmJOapr00KFDTXjdeuutNS1CLbK9Y8cOmijD3kMPPVSLDFctk5MnT0Z4MQ178sknU+UtoEf0M0MC1pVo4TMlUq1WpATYNbjN4TJZ+OyaVoM9aLUi18qV9TETvG4bUxrbWB+ykkp3KHAHAszhjjjiCG5STzI2dIAUyRlLw0knnfT5559jDWZiFymMPEUm8MYbb4wfP54x76233pKxITK2Nh537do1bNgwFiU//fRTkWwDKJ3TY489dvPNNzOLeOSRR9LF1OuhsdlgX2S2YDPbBDi0TpEAWqQg119/Pf6oGImGSLw6e6ILZqGH+9ddd11nX7qThACabM6cOYRcs2aNhrokBL0wiFrerUDgpjUCe3Hq0ggwDUM0oMkWL14sJikJoBiYJ6AemDMki0r2hmTcuoTSzKMLoPi3R40axbIcm6jHjRsXP7RCtCeQfubRPt5edWV4O+2005AOsjJm2wSYH9NWmYbZmlq2kfdgbDZCJbYyyt6QS5tZsGAB8a5atUpzuKz4MiEmKpscZxVnj8eDseH2228HwrJly3ocRVbFx7j44IMPEps27mWFlHgY5BANDHIzZ87MMNpejgrbGAqMmdjKlSuTcMhkq4Ui8QnYS1m0ct9R1+kJ2FRD722nJ2kx2OqmTurNiqfF47bvpdl3lm2W6h6bHvw8atCdEUCLjRu/1imSiK3wMGZSk0U9nFKCu862tn379gTBEwTB7Lxt27Zvv/12xIgRybZkWgwkffrppw8cODAkD5Ru586dJ5544vDhwwswU7ndprKoh1RKslu2+lPkDr69e/d+8MEHNNQJEybE3VBFS/jss8+s7Z1yyikhwS2VKI05Gbe2oYp/6ttmo5GOiVd/tE6RcXtwJjUtw2dM9rDDnG0t8XaeWFli//YVV1yBbiAUC08TJ06k34weA4rhlltuGTt27CuvvEIk995776JFi9oGpzjs3iAJZgAvvPDC1VdfzXvqbX1m6Ih9kmV4jA0h40SGyfVUVJjT2cH36KOP0gbyLrg1M2bkn3zyyTfffEOLpdUhBSKmi8ShvT3zzDOEZffx4MGDCd6abRokYwxtmJZMe6a58pO+LmIqabzZmu/SpUvTRKKwbQncd999uD/wwANt74Y5xjVQyH84AZnUwvmkvMuCHK2ZYw1TxtM1OAMqXb9vajYXZuddw+KBgCxU0Ricf05qw6V1kYVznY866ijnjn/mqQUUkNJB0mUvSqHkJzqBwtaAaCr8OVMzF/yk4UXJKm2SVu3CEsQdiu87Imf9low3ewwDD0iUFOP6oX3SSkkobkD5j0gg2YClc6Yj4o3kTa08EqZ0nhh96Uroy9JFExbaVv7oUn1PVC4DPIO679j22vpu8ul3vpbtwNcf7NhXxhgXj403JORc8rhApsAw4uiSRwYaH6frCvw2kHmprbU40WnxW+X6japTurRJWprfJtG7NAz+/Dh5EHAJtBZrz4FnpFNCid0t6ShlSZxEjwdMNhOTbsiy2Zha95/DLGNXXD8QsG4x1w7LeiueqAByZnL0swwJAffAT2sGgc6On/S8vtxhRGEixZ8/tBA53vJuQiTBSNBawEBB9DMNAWtF/gCcJra2Ya1B+u0Hb/yklXKrbRDf0cZ+XwoT9h+q4YeDZ5xPPOCCZ+fCBfHjGBATvof012SGp4NUuj5x6dPq5RisGfi21a40pBu6IorhQa08BqykXl3XxkXSOLqEsz6x9UGyDhQjQXh4awatwQOhUBL0iX6vHfCQ00+bCgeGgZzS6uVozWoVZfxORimkHm0k6DrcomkQN35DtTzTLH1NiSPefBcybI08V4FrM4TiH5Bk1VHfUNYRUcXRiyDdEJ1VF588V3kL8C456Jnbuc7krDtuO8uxdMMfMGsG9KpWG8TWSd+YOnFmia69fFbV29YcklXkiscnkGAm5wcPv7ZFrrb6z5pWAlOHtY2uWscaOVYNX3OE5zbBXStFQK8kiEdBwglYj+e6rHDPdlfvUzBAZPPHTngi0sFE2dAMjWXatGncT3hiSWjM3HQvTRx++OFt/X711Vdt3XFkH/trr73GxZlnnkk8bE2/8847b7vtNt7FWLduXSDUX/7yF1z69+9vr+3hkz3qbXezBwKm/GmnPNmXWlNGpeDhBO6//3485NRQeQOCyAcNGtQpD7xh0elWW3daLBvsESJ/+MMf2npwjr/61a8QDTTp8FeLnf8EF7zTsWHDBgazkSNHJgiuINEJ8EYVRh3eror+Gpd0Q3S8XXw+8cQT+BgzZkwXf7qdmgBdCR1KTu+57du3jwzSLXY6ROHLL7/sVAKC8Bq93eWTyr/5zW/4Bg9/v/vd7/71X//Vfw+TPvq7777D59atW7/++musDnj74x//SOS8upnfG26kywSOmZxev+xUiRm6c5oCseV0HCfNJjyrXT1YcBobrxwjWHm78sYbb9y8eXPbo0oYyBG4tGG8IVY4QyXXV803btxI9shPeBl1NxMCdhCnTX2jRCjdEIVSdz8oNfQaqq3TYNM9CvmIQ8A6FDtcIU647n5tOA/xh2025K6pCmwJGA/cbAyhM3v27IULFzpF716Rf/311+fOnWsR0nh+//vfM67bO+shqSS+ZXPf+fPnJ45BAaMTQJwh0ahQ5Fr0UBF9mt0rxN4QMR4yec4550yaNIlniskPJ2S3Pf4B89vJJ5988cUX88W+d955hyaaR6Fcnm3R/aqrrnIuusiPgE13beobJRXphiiUuvsx67SOT+9OKiMf+S1VYGkIz2PEnvrSSy/147EnEwOv78g1B/X4LkgNDMVM7HI622r16tUkN3r0aD9RXedH4JprriHyN998M/Mkjj32WOIMV7FREqXJYTmYPHnyXXfdxcc1ULeXXXaZ07UuBkQt3vi74YYb+FjMiy++iOHB6WDnLZMLhAuPADbFtpaPTJJQJD4BKpdXY5j6RrR0Sjf49JJfmykS2Z48CoWMQ8BWPflyWJxAkfweeeSR4f4GDBgQ4sHu0t8FLE/M1Qj17rvvWli3TDBs2LBAbKZL8jCl2JoxusQZQgJJ62fmBNjaQpw2e84wckbWY445JjzCrh5agzN4MFqzsSDku1w0bJr35ZdfzjCDDm5rnGiNOZbLe++9h/8ZM2bECiXPaQhgHyW4bbbtGo90Q1dE3T3QHWvNuDumrH3YXp6IAjl64jais1qRrEO0WWAnmwRdrVl36dPNsHH00Ue3zZvbJ9H2bjJH0yLTp09PFlyhEhBAojESM3tOEDYkSECVBnyaEYIttwH3KD8vuugivIXoBouEXThcoDBsjI8Sc3Q/Mt9GZ5WVT7NBmj2ya5zSDV0Rdfdg3XHA4Nw9mHykI2CWf7ZxpYsmGNo6elxbt5W9//77uIdvfT3vvPPwE2I9tlkg/f7555+PT75FxL+tf6Y/Wt3TuFhDZYk6TSQKG5eAzZszF7g2crdtaaZNw1ejeBuCr1FgDgksSZjBDN1skZBt1iNalyScMSOPpQobvWS+jdvS0vi3fg8hGCUS6YYolLr44UMv+FAr74Ip69vWb27ZsiXriA+zKdcXX3wRiNn66PA3GNlCjyGhdZAwfcAagZsp/vKXvyR+d9KOS8tSMf3hHDO5UHecCca4keQkcFkswJLR2tKwkyEFuq5GrV+/HusX48RHH33kl8g29hKzLWahyzGm8mc2AOfTqerM35Mk/+SK/Lu1PJeoLnIlEF3gSjdkUBFsiScW6YYMUMaJwvZM5bHFwQ7hCHSUdGe8JRF4g5HJFuuC/tkMdHYs/TJdC3TovG9J4diL7opoe8UD9hJb86LXtlf4nOdMLtQdZ4IxbiT5CVzegKClBWb8KGkcA6tRNFEaqu+TD7sjcNnQwHfbXYlo5LwrwU+TzlyYLGAUnzJlivPGha2j0VD94L6HxNd81JuwF154YeIYFDAZAd6pIWCgR2ofVZTDoeQnnABkeX7C/ehuHgTo9YCfx0mLxExf6R/1aEfpMfHyC2IZCNQ+BgN6ZLZfOJ/kED+BCLnL0ZP4xOTgfFoqXY+ydv6jX5hhw89V9LDymZIArZTaTxlJa3BrV4E6taYbeChofuSBWy4SWqm9I+pcuLBtcXjmrnMnlDvV1BythRNhgiMpXbSdLmwPaSDFTp7lniGB6F2EzplOi51HKPBApo1R4SMTsIOf/XE3ctAuHqlWuks6ViKnC6YXozMNDOeoClxwbz15mv4Udzp0LvBDPMTm98WWPDHgB5/Ej0/iaU2lS0Yj37YhQd1xZGBZekQ00Ev4MjSr2BGyRE7LoXXxR3PiZ+sT0bZp4Y2WSRBrfmhWVKy1eT97tH/80IDxYO2ZJPjj2veW1TVZhVVrEbKKX/F0IkD7hDwNoJMH596HK7zqLzEB3rMfP348Dx7PVeJIFDAZAbapY33NDz6Vy+YVDtjBqMvhHLbiGzGrrDhw5h3LE+xwZA2LF987BcR6zJoIqZx66qnsU4uVSqc4W905E/Dmm29mmMl8Qbo1rYguWMXdbo/wINF9hsdT1l1OY+R4U8ZCW1zLNhvAeemll9ivQEtjWwwHh0SkatmgkbNhlnUHGnlIQ2XdDQv2hx9+SChSYR0tp/0HPNE814iVnOLPFn6y2KgyAsaqpmQJxQ3FVll2vXRVBX3jxiv/AQJ2CHyyV54CURX2k1bL0S5tk3v55ZfbulfT0VaO3RatzDP5wzk3Hcf78OTo9ejBOU4n3Bt3GcgLGMtt2bLr6RRdc5vSAwvtv/71r9mrT/cUEHwoLQ4U8pUTwy37V3An0U4vnqTMTzHBbWvk7t2789ANDD80sygtrW1hIzZycn7CCScUMNTZO6uNFA2c0v3888+jwNiAkpOIbFvF0R3Z1wJ/Hs/w2UsG+yLtYJPoOUvms5hUEuTNBPiIESMShC0rCA8/jYOPJrCln71y/PESKT8jvrxbVrZb07XOJdJGntbA+bsU0MlGLwRGbDznMW5FzwM+0VKIA7ftzg9rX/by7XaLFy9mGo0f+lnfZ+2ubV4R90NTVStmYe3ZbwNVg5AmP3zijsZf+jMYUoQzzjiDu6bUQ7xloBusPwpJI5NbxaSSIKv2Tn/t1DFykjmue5UfIzw/61gKqqyybSNBc8ovCOqQzRP5xR8xZsYe+s3A5vxOYWmQNEs76KKTn1q427zCwOFuuAAAQABJREFU5hi1yHBZmQy8hZRtNpju53R8e2s+2050ac80/rPOOqvVf0VcWColJzt37gzPT9p1CqqZFdPwNNLfLSaVNPkMt+qkiVlhuxJgROzqRx4g0HaWXx0ynFGIfm3k+8ymyG2OUR3glc1JRFkZN//2JbC4oRL4tyOzEgQsPYgdh2+faA/JTFp7w8MPPxwSe1a3iknFzy2Gmq62GvNvq3F+WF0XSYDdv0UmV7W06KFsj1V4xurSkbHWXjujVzh5u6t5RURDgn3FPgrSBH7yOOulbTbCd4mFf+CmbYSFOQ4ZMiRKWl3sDXQ3fHgXmcYfW3vYhsZasi0+cevxxx9nkzDJYPzhBR7WIEk1sHhjMbBZ1/b6tm7eISzLfmxt4wM/3KV58cIYh5gy88CkGTGVKEWN7oeO+LTTTsM/X4ezbISH5ZWkcA+6mx+BTl+CyC/F6sTM00HxaX5Lly4NeV+DDEcUweUWrbDl87KKaUcqlZV6iemyGRYTAhL/D3/4Q2CACOTKP5kqcCvlTyZ4bMVNGUmU4DxrDzzwQEi/ZCdyRomqLD8cHRa+xSRMN1DZTPStphlKiQvdcOaZZ1qM9957L6VixZTKQFtYCXmTZ+7cua60xMC2pmuvvZZPr3IK2HXXXeciND9ES5fH48RiB68IYx4hFSLhVRzWAvmua5RUXHJZXdB/cRAb35MlG7fffntX9VDl9aqsmFQ8HuRmeH9U8fwnyx7ymr6YZRreBI6iHnIy/ybLfCAUA8bf/vY3egCmEH4fEvDGT+qaWam9GMLFKaec4kwUbpaCN+Y5UUR/a/z5uRSwpJtf5tPEzEubjBQ0VCaHDB/33Xdf+NOa7etFjDKMUDfddBNFsE+0cMFE11JhmMfRn7taSZnQ8gpPoEHS9lj7N8fZs2cffvjhvAHLmxE8WVYiPDDMUdE8j246zYgWxeBk+WQEJAMEofUGQrkXtpnGc9fyGT5hMD9x/+2ubNxJDoELjoCgpim/724n2PguNtX2Xdw1MdgpIu7kMi6IkyDOj13YvjbaE9IBF97Oopx2bR78VPI4OyWQH/tpx48YcbLNzwAN84YHct42huo7cnKLFZAqqH5u2+bQVGzPnhLD4+Cv1PCkcDhPKw1cqGierLYMi3e0Z9zPD8+XPeY8a4H8WAGdo4WlOIFDimjMhKX4MKGroWEQYSsKF0/BF/agFZxodZKjh6F2DAL/UjWMJq3djlVutrVGk2A0sdZFW+La/gwOadFULG9+T44fC+I3SPKMHxoeRbCAZBhvuFAWXAiFB+4S6p/JzJtHKL8icLfgviNhLW/EQwMmz8Tgn6zFA0JAG0z510DhzY8k/TUxkzefQ9s4O54XSe4JT+b8YJQnEKOR9f24a4shAMiYtg7AeOPPuQORtFxUIak4P3lcWLqWN/cvledXJ+4BJnnkJKc4pRtyAltktPaou/ZpF3Q6dDQ8R5YTLnAPPM5FZjKQlvV6gfzwyNP/+t20hQroBrxZp0wP46K1lkyRnQveeH4J61zKvSirEyu31H7qrrfx2ypYGPxow+bTGoZrt37wlNc2Wvtdtx+h5S3Qk7c2SFwIZVHxr+XTatbl2Z7HkIZng6DzT4QEoUkHguCNx8HIMDJybam7bJOBzHUDkVM7AQ4uRXfRcV8kFhJKgqGeo1dYbrD1UQz4v//97/1aD7kmBnQW7cA3SbmPtLYGJDlnniJIysVOVrP6pP6jtlrzyZYOzMLYo1pvyaV4AtaisH+mru26RnDEEUe0Ymf1kIU2sNRiZ4Pln0eeFYeAbTZQNGy5vATP0uEjjzzifOJonyLjlvNPbHzbCds45mLnWOKFrWbWtZFlkW+6zVb+9LEcY2r7yVrvFubCqNyaljVI391GJfvGPcZ8G9rY84eE9Yc5P0jrdeu+SE4u4YGdP3++75kmzZbB5cuX48gKBdf2xS/nxy1VOJfCLjrqBnLw1FNPQZNhksUb+iZeSEVAuGc1ShbZ54hyYdGRURz9gQr585//TMC2R7+xcyJKnKX7Qd8wrYneSkrPcLMz0H0prtnl71w6pkEId7f239ljhe7QvdBddMoQGohzTvlqn83YnLf33nuP4YfyBgprx5O4JW3nv5QLZ38tJfUqJ8o82073KjGTCc5RdbuF2OUQa1hs7bJMHIwePdon4H9+3WbU7C/kCAo0BEIZn7aDxw9S2HXYvkhGfTYn8tIE34nmC8Iod/4YMtmuGDF/lPBXv/rVu+++u2DBAsQUYy3qoe0kPmKE0b3RswQ6l+hhzSfTFF8g0yvxEeTWvSpxo5X/PAhg9OtZJUdXgmnBUaUX5lnL7/MBLqE8LhANnbpgLHxTp06l97j77rsDSdPP4EJYuhf/lnXQbCLzHcu6pvMkabMDl5WHEtNlqEPzGQTLBmZ2ulOO6wiovRIzGStp920BM0LECut7pmHbcaj2EoB/i2uTm+gGRl4ec/tjPn/55Zd33V4aiCrKT1MkXX121A1I+48++ojsmkrgJwdk8nIB+b7qqqs69dHYFTBL2JPPw8y4S5vYvn276wvMwtM1W+Ee/FTCfSa+6/fF6I88aihx3hRQBBwBv6HSs2Cor2kvbCWio+hkb2Cb+rPPPkuXMmPGjL/+9a9+Me0cRk61YvHCkbELWy8POOpnwQR80YC9tusbagVnL1lyRx99dLKAgXUKvlpCPGBpbb2+CwPxtGnTWATAZo96ZhDkD4Ni69EGyXJloQJLIZ2i6rhOwdOLqcAF4yll+DRrUsjnAHiA3XoqwZFRNBEnGojN1/50eS7+WBd+KrECRvRMK0ce4ZkiM5ENbNFojUQWyFYmBbvwxZ2CU6xCcsxUrKGiGNg/Rc/ij6atObRXvFrdq+PSyd7ABIuPpzCN+a//+i9WgrH8+Xm2w3Gr/xgyNvjZ7p1rXlbE0kDx6Us//fRT+tXwOXrIEJMVNKa1LLtnFVt4PHyK1vcQWKewo5Zo1b6fwDVPOo8G7R8lwTycps6OSB4KzjgI+CzmZ0fdQPLUdED7k2/yakdRWv7sdAvnDVngVII9xvbFQlcY/+Dr6KeuhqTiYs7wgjaNoIuiGCxR3/iWYTYUVXQC4d1Q9Hjq5ROzHxOOKIrByhXosCpY2E72BvSQSSJmV9i3bbLl8m+dDOuhzsVdMI2xVQznUuJFxc/5zo8MHzOLqBj8wSW//BCzHRYSngSNJ3w4Dw/u7obLIJ5ieyMDceCCuAvb1ctjzoYB58hjwhknfPWN7LnB191Nf+G2bnSKKkw3EObWW2/1FzwoA4W0/RoWI99R5OLNN9/kX3zSMdnjzc8LL7yQfykw/9of+s6+78KQjGdnrrGSozP8tH4M9I//Q1LxvWV4jULqtBYTSIXl5ICLfhZJgCGkyOSqlhbjqHviQvIWsTGHxFDMLboCN/HolCLdJTNXjvFx/Sylw+JCH9r66gTfvKiCbnBW2E6FarY7sr6rjcEIRDznOAEuWyJ3nyTl7Ca3QYHY2ra6jRs3JkjInscQ65cb+Fzk999/P9fPPPOMc7EL2rM7U5EPcAfusjWEaTyHvwXc0/yMeM53mG7g4UTIX3311ZhZ6J1ZVuBsR3Y5+HM7DoKkQWAt4S4+7W0oyzePN7d4w4RbFnzr1q2YWcyRPTKEQiiM+uGP8tMLULX8an34Q1JJwyiTsGYLqWm/4J4iDgLPhEYpkZhaLyXpeiX66quvViTDHApJTuxflyV6A54jpENg/kAXjLtzpF/mOFfWQNkm6SZb9DMoeLY+ODFBtCgGjJolvq7mimb5bB0wnAdd+ATyWFBjcwBJuJi58N9foFHRfvyDwGlyrMvTt3DBn589W213nad/y66JCou1VToNMlDvZnT3R2jUv2179JdOCM4W4N/85jcWJxEG1jteeeUVzqz0h+PWnMR1iSqy3UkOgQuOmOBxxRErKGdi8Gc/A97sJ/YDPNgJFQEPbYMTVeAIi0Cotj9DUmnrvxhHrKbUDXkrJrlMUgE+zwO6ELnm/vhJc88k/sIioXUBHyVaWIr1TcjUVen5x17tNzyuMUmSK9qe785jhSM16xy5oAg40tW4RsuFq31aNZ0vfviX1V9i4K9tp1Q8BPJMQ6XsxSddrxSpxPyeaNsTYA2j9cQkBmYaD82JauIuF/Tq9tTQzKxvxN01SBy5ds3P58wAR0D+LB43dJK0HxwP/sDBg4ALfghFG7YMWLRkiQzgyF2u+eMu15k3b5KOMpx1PC/Sp6DrEAJUIaDpF0L86FZOBHjqgM/jlFP8TYqWjgZWrgtrUtH8sjDw0Cp4HitVUuslTCH5udV1KwFaKYNrq3smLrQK2oY/WgeiRT3ggX9pSNyya/wnGKEtKosnkErIz7Y5xNHisbvEnCA/IYm6W9ZLhPAxnx3fw6Ty9BeFgG3kwWaVx/dFomSgl/2Yxc+20/cyhyhlP+OMM/CGxbXtUm6UGGrhB7Mt2x14vyZb+23Kstubora7K2VUjQ/OxJqd5ixL5VGDNP7w9s/ONgi71NP06hZV3Poie2xZCJTd5fkfuR84MG6c0f3bSk3X7VBh+xuiJ9bLPm0jj7/9s5dpFFx2dDEpJns+C85q6cmZugrf2l16JrPKQKDbzSraxPFwdB5he/Nt4bjQTF1FPEggbuQR/ZfbfkpMHUsGayVdKUk3dEXUxYNJM39DTZcAup0dARsF+ZJydlE2NiZ7WdHtC2tsOStZMDu9oMTxoJJU2mfK3tfz39hv70+uWROwPcX2IZXwuKUbwvlEuotAQ6a5/d6RwshTFgTsJcwoLyJmkVq947DJrrrj4mvR9tX37OENcYGb+ZCX7+IGlP+UBKxz6Hp4A6lIN6RE/Y/gfHaPf/m4TgZxKYrIBKw7to08kQP1rkcmuwhcWznuXQpllNyOt4nSHZeRu8qlaeZDW9mpXOYanSHTalGWfaUbMmgI5513HrFEffM1gwQVxT8IqDuO2w4kcOMSy8R/9O44k+TqHgnmQwncUirRjpYaPnx419SlG7oi6u7Bzg/R1sjupDL1oe44Lk4TuK+99lrcgPKfhkD07jhNKk0KK4FbfG3yphWr7bzMEmUXjnRDBhXEizG8cMxau7Y4ZEAzchRPPPEEfqOo48hRNtwjH9emhHwgquHlrFLxWE2L3h1XKeNl5uXiiy8m+RdeeKHMTPRY2tu2baPE9kmHrkWXbuiKKJIHDr7Fn7Y4RIKVhSe6Y75HwOaGKOo4iwSbEIezAAfOzW1C2apaBltNi9gdV7UQReeLLy+QZOsXGYrORy+lZx/CuOCCC6IUWrohCqXufiSQuzPK1Ie18lmzZmUaa/Mjsy9Q29yi+aWtQAntpEhtioxVFfa1COw0tvc5Vlh5TkZg1apVBIyyKRJv0g3JIAdD2TvHZjkP3tPvHAgsW7aMWM3wnkP0jY3S5hPuI3uNLWc1CsbCJcuXLGJ2PYCvGvmtUC7MQqOGWkyVsKkf8y0fvIiYnHRDRFBdvGEtBzro9VZFF1JZ3HZrxjq5IS5O5hMMY48++qj24sRFl8D/Sy+9RChbxEwQvJeD2FdMbXrQyxyKKbttJYn+5VjphszqxaBrL09mQDtHZLOQ+fPnd/aiOx0J2DCmgyM7AsruxsMPP0xk9gXn7GLtiZjYbM7efi1VFFDZTCHMUm5W8ygpSjdEoRTJD9CZyS1cuFAzuUi8Uni67777CK1FimQIr7rqKgLefffdyYIrVEQCbD7llC2OIoi4Zhwx2t7xZhODxx9/vHeKXEpJmUJgKeerwtH3mEs3ZFZTQLeZnBknM4tXEf2UwBtvvGFvUmiR4qdgov5ird3O1dGms6jIEvlbvnw54e64445EoRXosEsvvRQKTIU1E8u1NdgUIpZVTLohyxqxmdyvf/3rLCNVXD8lsHTpUhzmzJnzU2f9ikHg/vvvx7dmcjGQxfTKUGdWsalTp8YMKu//JOA2jWlNLb82weQhgVVMuiHLGmEmZ2ty2h2ZJVYvLlo5G9SZLo8bN85z1mU8AszkbE1NBznEAxfZt9l+2Sstq1hkZm082lKFJglt0GTkZJOHuFYx6YaM8P8Yjdl8fvvb3/7ooP+zJJCslWeZg0bE5dbU1qxZ04gCVa4QNtRp627KitFMLCXA8OBMG9iQxxQi+psU/4zwe/1lTYDZMHA//vjjrCPu9fj2798PWFr5wYMHe51F6vILZmqEHSPYtGkTDZXDTDv60I3IBAQzMqrYHtkLSUNdsmRJ3JCyN8At4z9bgF+wYEHG8fZ8dA899BAMHnzwwej7fnueWUcA2M/pNdhhqqN1OjJKesOMDba/IWkcCvdPAqxIMhNjdXLXrl2CkiEBMzYQ4ezZs2NHG1doyH8UAjI5RKEUy4/mx7FwRfEspFEoxfWj+XFcYl39C2lXRAk8JDY2kJbsDbGVVpQAZnK47rrroniWnygE7MMKMjZEYRXRjzM5LF68OGIQeQsnwGsUMjaEI0pw15kceAc7QXAFaSXABnPb2XDDDTe03u3ukkCnKEgUArxYAX2UchTP8hNOgM0iwMSKo50N4aDi3sXkwH4R2O7ZsyduWPlvJWBfsdLOhlYyKV3UA6QEGAhOE+Wpp7kG3CP+7IM/wusvcwKsxg0bNoxO+dNPP9V6fEq8o0aN4sRZRJhev0xJsjU4K8d8VpR+xMa8Vg9yiUiABePTTjuNLSOoMb1+GRFadG+0UtoqrdTGvOgB5TNAgGMCmIPx99ZbbyUbm7ROEUCa2U/eILIvXckInJIpnQWigc5CoiElybbBeQWLHgTI69ata+tBjhEJsJSGaGB3ukRDRGKxvNk3rlAPOuc0FreAZ5bSJk2ahOOzzz6bTDQQVvaGANUsf1JDJ510El0JRjZkRJZR90xc9BGDBg2iuBjS+dRNz5S70ILKNpYeN0vv48ePTzOHS5+HxsdgtjGWgF9++eXGFzanAj722GM333wzc9pHHnkkcRKyNyRG1z0gau6pp57CH2fNoiG6B5CPFgJuHU6ioYVNZg6IWnsn87bbbsss0l6KiBWKGTNmUGLO0Uo8h+slYAnLSm+AaOBcZAREwih6OxgzBEQDq+dpreAR90HIW2ICNvKh7xLH0LMBMfnymNNT9CyBwgrOhlPmytBeu3ZtYYk2JiF7xtFejSlRZQuC3dGGfu3kjVtHPOO2CTr9bv3D4qYt/3EJZFhbcZOutX/bQU1DVwdRTD0KeDLOtp8U1aWXfZIBjBtKwOMSM//MXZFcmcxgpRuSVUG8UGzro8I0BEan5t4P1PQ3OrT0Ps3AoyEwOkkTWzzdUrfRoaX3KSNuXIYmthiDMlG30g1x+Sf0rx45Ojhatp1+IcNvdGhZ+VSPHJ2kU7fpDb/RE5VPCDgjLsOhgHQlYBPXDNWtdENX5pl5sB5Zq/VdgdoBqIDKRBp3TU4efAKuR0bp+u66DhCQug0AKfin2+gg0RZOHlBZbWtwCUk3OBS5X6ijiYLYDDM0dCZzUfzLT+YE8uhoMs9k6RG6aYDUbVl1gWLQ+m84fDcNyNZ2K90Qjj3ju65HzrYWM85ledGpIyiP/U9SdoZNTeZ+wuXHH2YS00aQH3mU9r+bZtC1lpaJqibsZqqZ7IX0Synd4NMo4tpJB+34C+A20cAEQmNVgEwpP111oCFKyUBlEzXRoG3OFakgVUfbinCiIY8FX+mGtszzdXR7sDVAOtBulBITx6T0C6sUDZB+RWiU8mlU5FqVEqiIXEUDaUk3BIAX9NMNk9oPDHFHQ6KhoPYXORnrkWUEMmBG46ijjpKWityCCvJohxOoXsCdt2ggCemGgpp1azKMkbRyemQ6o9a7vePCeg0Q+JNoqGalq4KsXtyk1l1oTb1SLVb1QnUUIBpIRbqhzJbv9jrQ4qnvMrNSUtr2qEs0lIS/fbI0Rbab8b6Au+0MQr1pHnN9sZvOaohybaNSF65eenNTDgOKnRafx54Gv6KlG3waJVw76ZB3TZdQttAk6YudaZENH6F+dbMgAlQKysDMYIg5/1VYJx16TePyhPJsQoN/uXY14YYo39Hd1UVZBOwNC+qr1zaeI5XsyaVf5UHOlb90Q654I0VO72wdk5vNRApWZ090taaL+VfdbhVqMqAY6HZ9e4PlkJqyjonm6kuKKuQ/pzy4vpgit/bFkg45YU8ZbQ9qXOQ+zyx/tMmU9KIEl26IQil3P3RJNvmm4hsvk3mqbfhhZGrti3NnrQQ8AvCnOlzb+6Hn+ec/bZWBr3Ebbwp2M9eQvljSwWtNFbrEhOk0brNnJv7YwbNcTB1INxTDOVIqbgNaUwdUv4nTKUeCIk+5EaCZ+ULBvw4ZKalEGyzxTyXyM7cMlhYxI40zAXbtiyUdSqun0IR9jdvUyZiTRwXbqqUbQpte4TdpB2bApx107bAKz12qBJmeuqI1fqqailRRga06fLngrtsaG/x80ThtPkckDdue4nZ4IB0iTlUlHfy2UalrZ8BHJXdt1ZXKeXhm0OvOHlbAhoZAZqQbAkDK/+nP55rR1imRs4QX38TLr9HK58AZukw3UEdRskwv7CwWzTA8ODODmVKiQHB+JB0ciqpd+JOxZhge3LYbtHspJZJuqFoj/2d+XFunC0My19ca7GZvNHGZGSrY2rAcmFzgOCO7iFVNdFtmeODf+lrIfLGOmSGZBUXSoYLN27JE/brZea0tZEhbJ9bR92VZUKQbKtvU/3GChzOy1bFTZhRxlnC61PpKn+o2kdQ5c6KBC+tYaWlxY6Xzcvak2nXK9pQ56cMTF7f4vn9JB59G1a6Rg7ZtBX3M6JtMHZZVKJ4ya11knqcslrjPPM/SDZkjzTjCQKdciymdrxh4PiMuEmcMTtF1I+CLBvza2E/f1C1c+/u165R9xUBfnJW0lXRo3z4q40qzN5lolV793slXDOS8CuZn6YbKNOfQjNApO/NURZpOa37piLFaOxtD7RR9a4ka7BIQDZTUGhjuaUpNcNcAuEgZW5qchISlI3bLZwwemdt7JR1C4FfhVkAyVranQtNYW6KV8peVtE1fBdIN6RkWF4OvHqwZVcTUZu3bqXiew3LNaMVVST1TahUNlIO2lNVUxlcPtApWQBiqq4CKZumWVHJ9giQdqlDd4Xkw9eDLXKY9OIaHKuAueeAJcksqlXqCrPjSDQU0g4yT8M1W9H20e/rlUqxt5IQnzbXvXDvijCH2cHRtRUMePBAi/iBNO6G1lCIgeDp4RtwIQUfMuJ53TiQd8mhUecTpD9J0YjRaXEoREOhamo2bgNFis5Ly2XKTbsiWZ3GxBTSpExAFTPQZD+iFfblA+66IVC+uAuqZUmGiweFheKbvc2M2DZWWg0veSpcHxHphP2ksYUUOCZIOrhlU/yJgNDUBUYDS5QGhTSJWnFywpAvoyRNXinRDYnRVCUizo3H7nSPNjv6RoZ2Wl8mkikiIir6eaInc/ZFoWaaOqtCvVT6KFw0+nsCkn1ZER0mLol2hRDNpqCRBGQOiloRKNHVIOvhtoBbXJjf9UZxrxnW6WRpqJnYI4qGh0jYC/XaJpo5YVdMH324Y0EWtCRw4cGDbtm0rV65ctWrV559/7peF3nnAgAFjxozp37//iBEj7NbAgQP79evnvB06dOizzz6znzt37vzmm2+2bNny5ZdfrlixwvnhgkdoxowZkyZNmjBhgh/c96PrChJ44403xo8fT8bosMaNG1diDvfu3fvmm28iF1qb1kUXXXTGGWeceuqpJ5988pAhQyyTJ5xwQt++fV2GaefEYD83b97MBR06imHDhg3ODxc01BtvvPHiiy8+55xzym2oixYtWrhwIfnZvn07D52fSV1XmcCuXbtoWqtXrw40LQb7s846a+zYscccc8zIkSOPPPJIK8XQoUP94tBKaau47Nu3b8eOHV9//TXNtbWhEtv06dOnTZs2fPhwv537UVXtWrqhajWSTX5osh988AEygpYa6J0TJIDsoDc/77zzRo8erY4vAcDSg1RHNARQ0DUjUrdu3fr++++nbKgMzMgOenOEQulaIVBMSYcAkNr9pKHSlzKVorkGZETcspjsmDJlCpqjRlrBL6Z0g0+jsddmSzDZSyE//PBDumkrLfqXi0GDBtlPm+1xbRM+VEK5czXLlf5NQ6CyoqG1UGZL2L179yeffMJds3i1esPFZntc2IQvYJNoG6RcR0mHcvlnm7rZEswuS8yYJTrFjz6wW7RYLgI2iU6hKu4u3VDxCso9e3369CENLVflDrqkBGokGkoiVFyykg7FsVZKeRL4WZ6RK24REIEyCUg0lEm/Je277rqLrXDsPRo1apTbotHiSw4iUHUC0g1VryHlTwSSEZBoSMYt11CSDrniVeTFEJBuKIazUhGBQglINBSKO05ikg5xaMlvFQlIN1SxVpQnEUhDQKIhDb0Cwko6FABZSeRHQLohP7aKWQRKICDRUAL0+ElKOsRnphBVISDdUJWaUD5EID0BiYb0DAuLQdKhMNRKKFsC0g3Z8lRsIlAaAYmG0tAnTVjSISk5hSuTgHRDmfSVtghkRUCiISuSBccj6VAwcCWXnoB0Q3qGikEESiYg0VByBaRLXtIhHT+FLpqAdEPRxJWeCGRLQKIhW56lxCbpUAp2JZqMgHRDMm4KJQKVICDRUIlqyCITkg5ZUFQcRRCQbiiCstIQgTwISDTkQbXEOCUdSoSvpKMTkG6Izko+RaBCBCQaKlQZ2WVF0iE7loopLwLSDXmRVbwikB8BiYb82JYes6RD6VWgDIQTkG4I56O7IlA5AhINlauSrDMk6ZA1UcWXJQHphixpKi4RyJuAREPehCsSv6RDRSpC2WglIN3QykQuIlBRAhINFa2YfLIl6ZAPV8WaloB0Q1qCCi8CxRCQaCiGc6VSkXSoVHUoM0ZAukEtQQRqQECioQaVlE8WJR3y4apYkxPo8/333ycPrZD1J9CnTx8K0fhmsGvXrn79+g0cODBuje3du/eDDz749ttvJ0yYQAxxg2fiX6IhE4y1jmTRokULFy48/vjjt2/fnqAZpy/7gQMHtm3bxoMwYsSIoUOHxo3QniNCnX766SH5d96GDBmSIJW4uZL/ZARkb0jGTaFqQ4D+7rHHHhs1atTLL78cK9MEvOWWW6688spPPvnkm2++ueKKK/h56NChWJGk9yzRkJ5hA2Io1+rAE0T7RzdAcsGCBRMnTmSAj0h1x44ds2bNuvfeewn+yiuv8CTyEx0fCE6EPF+33nor3vibOnUqPmn8AW/6WQkCTDT118sErBU2kgBD/tlnn33JJZfwL8VcsmRJrGISkL+DBw9aKC74SZyxIknpedOmTVZBXKSMSsEbQOCee+6hPWB12LNnT2HFIdFAiuayf//+rnn4+OOPeWR8n2+//XZrEXi48IZnFyFBSBSfavmOSXUu/mGg1l8vE7BhqZEE6Iasw5o3bx7FjKUbnnvuudY+y0ZxbhWDS6KhGM71SqVg6cBDxINAoj4lHqujjjqKx8p3bL1GDVhuA2rbdLwf59q1a0kFd19h2GOLWG+NWS7lEtA6Bc1Vf80kwPqo7Ug49thj45bw6aefpmccM2aMH5CfOHLLd8zpWssTOYGte7QFL1g888wzEJs2bZrPjcfq/PPPX758OWt5vnvgum/fvl999RWO77zzjn9r0KBB/Hz//fedI+uAXGOK+Pvf/+4c7bF99913nYsuKkJAuqEiFaFs5EjAOq/oCdAbbtiwAdlBx+eH4ieO3ArvLv0gya4lGpJx65FQRUqH119/HarHHXdcgC27I7/77ruNGzcG3AM/58+fj13h2Wef9d1NCowdO9Y5spsBcyBWB3/LpAmLM88803nTRUUISDdUpCKUjRwJxLU3hPSGNlVi31Z+2ZVoyI9tY2IuRjqYgAbaL37xiwA6e6a2bt0acA/8RGeT1ZEjRzp3tkl+/vnn2O1mzpzpHDFgzJ07d/Lkyc6FDcgvvvgiP++++27nqIuKEJBuqEhFKBs5EohrbzCrqUmEttniDYu27ukdJRrSM+yRGAqQDu6licMPP7wt1bhPFpH86le/QjSsW7fONy20Rv7kk09iz8AIMW7cuNa7cimXwE/MsOVmRamLQE4E4tobvv766/CcdPUQHrzTXYmGTmTk3pYA0gF3znXglcU8znXYt28f8TPMBxbsXGa+/PJLdx1ygd1izZo1H3744fPPP3/WWWeRVewQbf2jJ9iJuXnzZrZEsC9YoqEtpdIdZW8ovQqUgdwJxJ0Vmf8Qe0MeOZZoyINq4+PM1erAjD8cIK+Dhnuwu5grTj755Isvvvj6669HEHAChLNkBIKfeOKJ55xzDlsfePpYoeChCHjQzyoQkG6oQi0oD/kSiGtvMP8R+8RMsi7RkAnG3owkP+mApSEcaURtjbkCywF/N9xwA4YHNi5gIGGjQ2vk7ITAG3sdVq9ezQM4fvz4FStWtHqTS7kEpBvK5a/UiyAQy97AhqxjjjkmPFtdPYQHD9yVaAgA0c+4BHKSDkceeWR4TgYMGBDuIXDX3ki6/PLL2RrJRoeQ01fZKXnHHXcQ/KabbupknAhErp+FEZBuKAy1EiqNQCx7Q6elXMu9GSH69++fVWEkGrIi2ePx5CEd7PgTVitCBvgE2O0NTN5nfu+990KC21sYpL5y5coQb7pVPAHphuKZK8WiCcSyN5A569farlPY1Gf06NGZlEGiIROMisQIZC4deOXBDntu3QhshysEDkYLVAQfoWA9onVJwpnrbKkCUcIHLwYPHhxYknCHRvBhuUDM+lkuAemGcvkr9SIIxLI3kCE2e9Ndtn56hw6OneGchhv+ClnEIkk0RAQlb9EJZC4dLrroIlL/4osvAnkwVc15TQF3/yevRXAEJH+vvfaa7+5UiFkU+IntgZWLwEmsLlE+oekH13XpBKQbSq8CZSB3AuH2BvteHy+A+fm48cYbMZAGtm5t2bIFx+nTp/s+k11LNCTjplBdCWQrHebMmUOKgYEfAf2Xv/yFL0fYQoZlqfU5MlmAzp4yZYqfbbMfIM2HDx+Ou1k18Mbhkr439/QFgvt+dF0OgXI/j6HUSydgza70bOSXAfvUHsXkvFuuWxPiozvcpRfzb9nn+AJf7sFn4NM7fpDo1/pgVXRW8pmMgH1QilaNYSBZDC6UNXv/2eE4Jh4ZDAnODxdtnyMcA9+BIz/2mgZPgQtOhDxrfhJc86yRCrecN11UhIC+h1mRiigtGzyZ/JWWfJ4JW39HJ+X/0Rn5H+IjfU7Fp3sNOOJOt2ie6en4o1/jp/+p32R5l2hIxk2h4hLISjrQ+HmUsC7YB2bRATwvPDV+fhjm2z5H6G8eHIIz/NPy8cNDxJ8vGiwePJAEeeYWf1zz2OLoiwk/RV2XSKAPadvIoX9zJYDN7W9/+xunmpjtLlZa7MUzy96QIUM6nbNGhCy9f/TRR6TCJ2dOOOGE8PcCXAb69OnDtZqBA+JfYI996aWX1q9fzw6J884779JLL41I1Y/Ev9byhE9D13kTWLRoEadJMsynP02SpvvKK6+w5MduAz4tEWuLD1uF2OvAeZGUl+dowoQJ/gKHg+COlTRv7D6OlYqLRxd5E5BuyJvwYTxvrBGyKM4Dw2dgOGl16dKlnG0SJWEUw7333sthrrbDf9myZYRqDc7wtnjxYnY4n3HGGaeeeiqi/tVXX+VQNo5P6ZqKdENXRFl5kGjIiqTiiU4gQ+kQPdFWn/RRKTV3a5xyKY1AibaOXkgagxvWNv51hWVQp7IDS4Purn+BgQ77nm8Yt0V3gvsREgRLING6sBYQb622d+fHXVjLcz91kRMBqsxQB+oup+QUrQg4AlktWLgIddHjBJq5sF2RSmX8ZiWPhbpAfnDBveu6nSkMfCIXXAxIBIYfP07u4oIp0tcirEHiiGTpmooNZi5+XeRBQKIhD6qKMzoBSYforOSzKwG9h2njZi7/8toeY/kVV1wRiB0X3LkbcA/8tK854/Pvf/+7u2VHEbz77rvOxe7y9rN7bYlbfEWGf3lp8LPPPnM+dVEKAS1PlIJdifoEsn05049Z1z1IQN/RzrHS2UZE7O5wNJeSuXB4avguB85UYTvxsGHD/M1BdkzbmWee6WLjLtYFzk5hs5I5spT4ySefcI29gQ2Szqcuiicg0VA8c6XYlgDSAff8PrrdNlE5NpKAdEOO1coWSGJv/ZaBuezcuTM8bbYcBzY2Igj4lByh+MKsH5ZtEP5P9h/ZyWu33Xab9iL5ZAq+lmgoGLiSCycg6RDOR3cjEtA6RURQSbzZtwyOPvroQGBz4a3ogHvXn08++SRLDxghwg0VDFec24qYuPPOO7vGKQ85EZBoyAmsok1DQAsWaegprBGQvaG0lmCqIkryHIHMWxW8AP3OO++ww66TaGCg2rZtGyc9rFq1ipULli1kbIiCNw8/Eg15UFWcmRCQ1SETjL0ciXRDjrXPXkViZ5NB2zQ45KSte8CRtQlOi3ImClYo+GsrHTgVirBsnuC8hwceeIDrwPpFIGb9zImARENOYBVtVgQkHbIi2aPxdH3jQh4SEzDF4L8eaVHZW3m8ORk3Zl655LVMWirmhPCw9rom/4Z74661+67e5CEiAb1yGRGUvJVOQC9nll4FNc2A9jfkqBfbnqXq0vPfknCO4RdEeMcdd+DnpptuCl/msC/LPfroo4HPPIbHr7spCcjSkBKgghdJQHsdiqTdpLSkG3KsTVMG7GQMpPHtt98GXKL/tM9bECevcYaE4jMW2DPwYAdAhfjUrawISDRkRVLxFEZA0qEw1E1KSLohx9o866yziN2OUvCTsQOdLrzwQt+x9XrixImDBw9esWKFf+u4446zn/alK645f57dD7fccovvjWtTLWylDLjrZx4EJBryoKo4CyAg6VAA5IYlId2QY4Xax6g4kSmQhn0XbtKkSQF3/yfLELxLyc5KO4nB3friiy/smq/S2QWnRGB+WL58ufNjF3yDjgvTLoFb+pktAYmGbHkqtoIJSDoUDLzuyUk35FiDs2fPZmsk708G0nj99ddx52Oyzh2VgMEAy4FzwVrAQgO7IG2ngnN3h0lPmTLFHFEG+OSIJ+eHCyK09RHnzb+r6wwJSDRkCFNRlUVA0qEs8rVMt6b7OeuSbc5oQiL437Tk9QoaSuCFCLxZ6/F94sgLEf6HqexDWfjkliPABn4+c+V/+4pbrZ+/cv4DF5ZuwFE/IxLQ2xMRQclbLQjoDYtaVFPpmdT3MPOtAkZ6HkXMBgwwDO184pJrXAKpIhdwZ/j3VQJ+0Ac44p/g/HGNCsEx4I1ozRsXeHMvYQbERCBR+ynd0BZLFEdQGz0uoviXHxGoPgFJh+rXUek57EMOrO/Tv/kRYKvBM88889VXX7EpgYUDXnaInhbHQ61Zs8a2RJx33nmjR4+2DY+BGDge6qWXXkJ/sF9yzJgxbK2ImEqfPn2ISs0gwLPrTy1PdEUkDzUlwIIpn79i9XP79u1te5ualkvZzoqAdENWJOsaj3RDgpqTaEgATUFqREDSoUaVVXxWtS+yeOZKsd4EJBrqXX/KfQQC2iYZAVLvepFu6N26V8kTEJBoSABNQepIQNKhjrVWTJ6lG4rhrFSaQECioQm1qDJEJiDpEBlVb3mUbuit+lZpExOQaEiMTgHrS0DSob51l1/OpRvyY6uYm0NAoqE5damSxCQg6RATWPO9Szc0v45VwpQEJBpSAlTwuhOQdKh7DWabf+mGbHkqtqYRkGhoWo2qPIkISDokwtbMQNINzaxXlSoTAhINmWBUJM0gIOnQjHpMXwrphvQMFUMzCUg0NLNeVaoUBCQdUsBrTlDphubUpUqSIQGJhgxhKqomEZB0aFJtJiuLdEMybgrVZAISDU2uXZUtNQFJh9QI6x2BdEO960+5z5yAREPmSBVh8whIOjSvTqOXSLohOiv5bD4BiYbm17FKmBEBSYeMQNYvGumG+tWZcpwTAYmGnMAq2qYSkHRoas2Gl0u6IZyP7vYKAYmGXqlplTNTApIOmeKsR2TSDfWoJ+UyVwISDbniVeTNJiDp0Oz6bS2ddEMrE7n0FgGJht6qb5U2BwKSDjlArW6U0g3VrRvlrAACEg0FQFYSvUBA0qEXatnKKN3QO3WtkgYJSDQEiei3CKQgIOmQAl6dgko31Km2lNcMCUg0ZAhTUYmAEZB06IWWIN3QC7WsMgYJSDQEiei3CGREQNIhI5DVjUa6obp1o5zlRECiISewilYEjICkQ7NbgnRDs+tXpQsSkGgIEtFvEciBgKRDDlCrEqV0Q1VqQvkogIBEQwGQlYQIGAFJh6a2BOmGptZsWLkYPhctWnTo0KGApxUrVnAr4NiYnxINjalKFaQuBCQd6lJTsfIp3RALV0M8r1y5cuHChZdddpkvHVASs2bNuvvuuxtSyJ8WQ6Lhpzz0SwQKIiDpUBDoApPp8/333xeYnJKqBIFdu3YNGzaMrFxyySUbNmzgYt68eY8++igXmzZtGjduXCVymV0mJBqyY6mYRCAJAaYlzFWOP/747du3Dxw4MEkUClMZAtINlamKYjOCaYFViUCayIiXX3454Fj3nxINda9B5b8ZBCQdmlGPlEK6oTFVGa8gzuTgB3v77bdHjhzpu9T9WqKh7jWo/DeJgKRDM2pT+xuaUY+xSzF06NArr7zSD3b22WdLNPhAdC0CIpAtAe11yJZnWbHJ3lAW+fLT3bFjB1rB5aNhOxtkaXA1qwsRqBQBWR0qVR0JMiPdkABac4IMHjz4888/t/IcPHiwb9++zSibREMz6lGlaCoBSYda16zWKWpdfWkzP2PGDIuCHZESDWlpKrwIiEA0AlqwiMapor6kGypaMcVka+bMmZbQ/Pnzi0kx71RkacibsOIXgUwISDpkgrGUSLROUQr2qiTKuU8///nPyc2ePXsa8FK1RENVGpbyIQLRCGjBIhqnavlqyHp2taDWJzesTbAd8ttvv5VoqE+lKaci0BwCWB0oDEdCjRo1SkdC1aVeZW+oS00pn2EEZGkIo6N7IlBtArI6VLt+grnT/oYgEf2uHQGJhtpVmTIsAj4B7XXwaVT/WvaG6tdRBjlkH8Nnn322b98+zmwgug8//PD9999vG+8ZZ5xx6qmncuvkk08eMmQI6xf9+vVr67MijhINFakIZUMEUhKokdVh7969Bw4c2Llz5zfffEOp165d26nsU6ZMsVtjx47lggP3Ovmskbt0Q40qK0ZWadYffPDBtm3bNm/e3PodihgR/eCVkyXRE+edd97o0aMrtRNCoiFuVcq/CFSZQGWlAwfz05du2bIFrWDfAkyMkdP2zjrrLPQE5/MOHz68ji/ASzckrv3KBUT/IhT4RvaqVavcaU6WSwb+AQMGjBkzpn///iNGjDDHgC2B4KgNu2U6mofkyy+/DMgOvmjHqQ+TJk2aMGFCuaYIiYbKNUFlSARSE6iOdEArYEhYvXp1QCjYwI/94JhjjmHsP/LII63QAVuC2SS4ZYber7/+GuXBm2utsU2fPn3atGk10hDSDambedkRMN5v3Ljx4Ycf9psjQoFmfcEFFxx33HHpLQQk8dFHH7HGwVPkywien+uvv55DINInEZeiRENcYvIvAnUhUK50oKN74YUXnnjiCTf7cpMlJl0nnHBCegsBimT37t2vvPLK888/z9cEXb3MmzeP7pQJXvokXJy5XHyvv3oS4FhoXqHknEfXLBjFlyxZQivMu0Aff/wxCQWSRlKQpbyTtvgpuJWai2JSVCoiIAJFErjnnnt4xhmwmaAXky4JkSgpuh6VUZxubf/+/blmgPjpx0grkHQBPXnich2WOKQClkWAdmYPlbVvkwuFPV1+qckJz5UvIMgYqsL3k/m1REPmSBWhCFSQQGHSgS7F78QYwnEpbBbkk0cr+NqFvv25554rJSd+rlqvpRtamVTXhSHZ//h1AYN0RBYBqU4mc1IPEg0Ra0TeRKABBNpKBzoB/tKXjvGYUZmx2U3AijSahuSfjFFAJ2WwQ2DfZZIWEqTgW9INBQNPmJyvGGhG1RShNHcePPccZq4eeJbsCc+k10hYEwomAiJQIIFW6WBzpzTjqCkGty6QeU+VFR6bj7l1E1CQ86wiTxOPdEMaekWE5fHAbuYUcS2GTDLpq4dM1lAkGopobUpDBKpHICAdTDcwRUmWU3oSpxiIOZPeKVlOIoZiCDACjAIVmTRKN0SsuxK8mSg2xUBzqYVi8DH56iGlUpZo8MHqWgR6jYAvHUw3MJuKC8G32lbWxtCpUL56YFZW7q5J6YZO1VSyO03cTdmruSoRERCZN3XPv8naukRDRNTyJgINJuCkg7PbR1+qYA7GFgFntc1p91UB8LGOmGyiLCin6ASyzZt0Q7Y8M4iNJu6sUjSRslpGBiX5MQpK5JZauODnj3e6/y/R0J2RfIhAbxBw3YgpgIhLFW4OxtQlYpCK42QC5iZj9JDF51a6oXjmYSn6TbyUBhGWuXT3aOtmQYlueJBoSIdcoUWg9gSYYdsY6cwM7oL+pGvxsHea/2bMwVx5fQtK3MmYiyTxhXRDYnTZB0QLN7KJO1K+4QGzoXNveyHR0BaLHEWgpwhgcHUrtk4xuIuQyRUB7VXGxpgZWuudeaYzPBS5wVO6obUuSnDxB9RmWNJCIPKoW1tnBtBpzUKiIQSgbolArxFABNAxuiMNnG6gJ2nbh7gBlSBFDqjF14s/doSoqGwzJt2QLc8ksfm6uNlN3NGhmDaH4N/WIks0OFC6EAER8AnQW7odjqYeWInwPXDtOpCUr3EFoq3yT7ccQ5ELyKd0QwGQw5Jg1LTJN7q4rXAOC1zne04mU3wmB64o7pkvTDu7pHUhAiJQCwKoB7d5PLDLwamKxhtuAzXlNksWsN1BuiEAv9CfTjT0ji4O8HUPv6kEiYYAH/0UARHoRMDUg79TyvoTpiLJXvnulFBd3N2AkvcsVLqhtCbBGGmWBtp6aZmoQMJuN6ibKMjSUIFqURZEoGYEnGhoXfqsWUlSZBc7ru0CyVU69CGHbo+JLgoj8MYbb4wfP57kGCznzp1bWLrVTMjROOqoo9atWzdu3Lhq5lO5EgERqCaBRYsWLVy4kJnY9u3bBw4cWM1MFpOrQ4cOXXbZZRs2bEA6/OlPf+rbt2/m6f4s8xgVYVcCu3btMtHAxFqiAVwIBVuh+O6777rSkwcREAER8AlINPg0EArIBUQD0gEBgYzw72ZyLd2QCcYYkezdu3fs2LEEwD6vibUD56QDigrzg3PXhQiIgAiEEJBoaIWTt3SQbmhlnqMLomHUqFGff/45S3GTJ0/OMaUaRu2kw4wZMwBVwxIoyyIgAoUSeOyxx7Q80Za4Lx1uu+22tn4SO2p/Q2J0sQO6ZSdEw1133RU7fG8EoCO4+eabWaf861//2q9fv94otEopAiIQm4Dti9KehhBwDDonnXSSzVQzHHSkG0KYZ3xr1qxZK1asYNnp5ZdfzjjqZkVnhsf8NvU0i5ZKIwK9SACT5KBBgyg5W6O04BvSApyRO0NQWqcIAZ7lLabRiAaOKGHHSpbxNjGuO++80zb1LF68uInlU5lEQARSEWAazYIvUXBOokRDOEreLlm/fj1+2DqW1fqv7A3hzLO5u2PHDhSD7GnRaR44cOC0007DvMbuUW0Eic5NPkWgFwiY7ZaDER955JFeKG/6MjJrBRpj0Keffpr+zUzZG9LXSJcYkMaTJk3C06pVq3r8xeIupLzb7GzYvHkzDtdee21WGtmLXpciIAJ1JcAQyB8zsYceeqiuZSg833xEEJnFTCyTPZKyN+RegZLGiRHbHkntCEkMUAFFoGEE3LYGDoXUNCxW5bo9kuk3OsjeEIt8bM+cfihpHJvajwE4FMs2OsDwRzf9LwIi0LsEmDdTeLY1SDTEbQQsT5gRlxfdWQiOG9z3L3uDTyPja6fv+N7j0KFDM469N6LT9KI36lmlFIHuBJg/YL6VAbI7qc4+zIibcmuI7A2dAae+w0qSvTgr0ZCYJbMK+7T8rbfemjgSBRQBEag7AabIiAZKIetjmqq84YYb2B356KOPsls/cTyyNyRG1yUgH6EYNmxYVvtXuyTW9Nu8c8WHcdMvyzWdk8onAo0lYBvFmEXYUkVjy5l/wez9PjaWvvXWW8nerZC9Ia9auu6664iadyiSVUxe2apnvGvWrCHjc+bMYemnniVQrkVABJITYBpmG8VmzpyZPBaF/IHAyJEj0V7MxFauXJkMiXRDMm5dQnEAqn3GVGeSdCEV7fb/397ZhVxVfH884d9NZBmFF2ma4QuaoGAiaKUiKuqFithNYQrmO1opmBq+kVqgpOG7XZjUjSKPQipmUo+oICoomaJJolkXVmTpnRf9P/0W7bb7nOfst9ln77PP97nQvWfPrJn5zpyZ76xZs4aNnpQdPVo+iiUEhEARERg/fjzF2rp1q5ZhTppn48aNyFm0aFGylZh4g5NWCAphZUzQrl27gh/0nhSBnTt3kjRxR0+ardIJASGQMwIsw1gcs3LQMsxVS2A3xjVJmN/t2LEjgUzZNyQALSSJ3bZCLzeDvpDY+hwZAbu3QhuckQFTRCFQBgTMvEmn0ty2JXamjz/+ODLv378f9wZB6RvctsU/0kzZsGbNGveim1uieTqTyqG5e4Fq31wIeMoGnUpz2/BwBVQOyNy9e3dcyeINcRELia9eHgJQis/W0dGtJTbnSZG5kgoBIZADAitXriTX9957L4e8y56lrcRY4sa1chBvcNw11MsdA/qwuNmzZxPw0UcfPRysNyEgBEqIAMcoMDDnxCBHAEpYvbyrlHglJt7gsunUy12iWU0W5jx2sAK9TrXvChMCQqA8CHz88cdUhmMU5alSwWqSbCUm3uCyGffs2YO4devWuRQqWQ8jYOYjGkoeRkVvQqBsCKA8x60hrvMGDRpUtroVpj6sxPDbzXGVWO4jxRucNSC9fPv27YgbNWqUM6ESVIEAZ7EYSnACk/JqlgrBChACQqBACHz11VeUZtasWfLZkGmr2N56S0tL9FzEG6JjFRLzzJkzdhuFenkIUqk/L1u2DBmtra2pJUmAEBACBUXANilMkV7QIpaiWKhzWImtWLEiunWkeIOzljcj/4kTJzqTKEFtIGC+Zm1YaSOKgoWAEGhgBLgI1ywiUaQ3cDUaoegsdFHqUFKWvhHLK94QEaiQaN5WnOx+Q5By8ZmhBBNrhhVtVbiAUzKEQOEQsGXYjBkzCleyMhbIlrvRz7eLN7jpBcbUjLW5kSgpNRGwAUVbFTVB0kch0KgIHDhwgKLrFqv6tB/LXbYqsEKNmJ14Q0SgQqIdP36cGNqkCIHJ3WcbUOTJ2x2ikiQEioIAekRtUtS5MSZPnkyOEU9ViDe4aR07SdG7d2834iQlDAG2KuxURXRbnjCR+i4EhEAhELhw4QLlmDRpUiFK0xyFsJXYiRMnolRXvCEKSiFxMOHhJAX+iHSSIgQpp59tV+jKlStOpUqYEBACOSMg9W39G6B///5kattDobmLN4RCFB7h7NmzRBo3blx4VMVwh8BLL72EsIiKNXfZSpIQEALZIrB//34ykPo2W5Qflo7PaTM2j6LBFW94GLxEb+fOnSOdTlIkAi95ooEDB5L40KFDyUUopRAQAgVDAOMG3BfixFDq2zq3jG0MRdHgijc4aBqxYwcgxhdhB7txHBk/qVIIASFQUAR+/PFHSvbKK68UtHzlLVZ0Da54g4NeADtGwyN27ADKmCKwKSGFvDjEhE3RhUBxEbCdR5vDilvKMpasT58+VCuKBle8IW37cwcmIvr27ZtWkNLHR2Dw4MEksgVK/NRKIQSEQOEQMF84NocVrnClLtDzzz9P/S5duhRaS/GGUIhCIvz888/EKIJRZBR7lpDKRPtct4xCi9OtWzfiyDQyFChFEAKNgsDly5cpaufOnRulwE7KyaBahAJzfbgAABhsSURBVHEVxTnq89AaiTeEQhQS4ebNm8To2rVrSLxsPp86dapfv37PPvtsu3btduzYkU0m/0llR4DsunTpQr7/heb3ZIuS69ev51cE5SwEhIBLBPD4hGuWUm77opw+fPiwnx+sXr2aEfXJJ5989NFHb9++7RLHRLJMcW5K9BoCxBtqgBPpk2nVOnXqFCm260hcZcbPzFx9uZZdRR47ArBRnFVs3bq1yue6B5lp5NWrV+ueszIUAkLAPQI2pw4fPty96AJIHD9+PJrptWvXemVZuHDhwYMHbYPAC8zxwXZ+Qwsg3hAKUUiE3377jRg2gYVEzeAzrJysR48enYHsKiI5azp//nyzRgx83rJlS/2VEJw5phhRNuQCpdWrEBACBUTA1tzPPPNMAcuWRZEYwSANxTGPe+qpp6jm6dOna1f2/2p/1tdQBO7cuUMcm8BCI2cRwa/1ykJ+QOamTZsIWbBgQSD82rVr5nEsEF6H1ygbcnUohrIQAkLACQKoUZ3IKZoQdMOMk0WuXUQvRNI3pO1adIW0ItKlr/9GYNVzj/v27UtXj4Spqyo/EspSMiEgBHJFwMzMcy1ChpmjGx4yZEjliF0c/Ur79u2j1F+8IQpKIXFwbRYSo1yfd+/ePX36dH+dcL6E0YM/pM7PdVa61Ll2yk4INAkCZmbeJJX1qmmb3d5r7g+hLhy0T+GgjTp27OhAShwR3KTFpRg3btzgIOLQoUNrJCXm3r17UY4Rp2fPnlx65jfFMDl37979448/MNhhpw1LWus0bDqgT6ukxhx6RNrcuXMtU3QP2PXMnj2bV7vF7oknnuA5or7LhKT/l23R4tgWpa+OJAiBZkYgonVeSog42mBXBCBnypQpbOqPHDmS4ZExjaEMBsOoyDCIhoBx8tixY7zaeFt1V5qBsaWl5ffff3/66adHjBhBKn/xWNhgQW8yETJ27Fj/16rPCOR2SgTyZ5dVEi0gtmrCOgSKN9QBZJdZ0KeXLl367bffrlu3jpmes868Qgiq5sEPY8mSJYsXL37//feJQNdHNcJRCOt8dGUYwBdffPHll1/+9ddf/EJgDPTRiRMn8jpnzhz40JEjRwLUga7stwdG94AQ5myMDLhLzQgKeZkZRNVSKVAICAEhkCMCDH1jxoyZNm0agyfjG7Tggw8++OSTT06ePAlv4JVB8ptvvkGHumrVqj///PPo0aPM3KyF3n33XVStMIzAKoXjlNAFlk8kxzycwXPYsGGMk36G4clkazXAGyr3KRDIUGwSbG32+uuvb968OWveENVtxt/6S4cAvZ9+kE5G1NQPHjzALwd/GGN6ae7fv08IxaBXeYE8mNqA6dwfyA+DmHzyB/LbIJCDEnAIL5xnAv0h3qfKB9ISGeGVn7IOMfsGVC9ZZyT5QkAIZI2ADTtZ/5wZKllBBerCKOofwWyoZHhhePRiUjAGusCAzxiLktUfzdIyKnoJ7cEsuAPJ+RQYxEwgo70/OfIDI7z/q8PnygpWCpd9Ayg1zB/0ky6F/sC/1wClnTFjRqAOUFR4Mb+NwH4BdJWfB5+I4CWBKfOM6sK6r4VbQvNO4cUs4EMlVS9gIVUkISAEioMAalGWXgGjKG6DtD1WK6e55EEXi4sFr+SoGYgTOPj9008/oaDdvn27F41hFtdVlabiEa0O2aFAYMANVKEu7BBv8Nq66A/M9CtWrKDX4jwkUFY7dOsPZPsAJVvVO+X4efAJowR/fJ4b1CF80UyKAqjqVQgIgaIhwMYuC7ABAwbgdcbzjcguQ+/evQNFhSj49xr4GnglZNSoUWgCAiyBpR3DbICaBIR7r4HFj63ZMPJgtwIOYULIxbNy8BLm9SDekBfysfNtbW0lDb020HGrdk2zMzBFgj8nIltgpSKhqpGEZmU/enoWAkKgBAjMnDkTXSzUYd68eVgp4qcfhzSPPfZYwJaLmlb1yIQBhB8EUmEnjo6BOR4igiECf4E4/viVz4FhFt7ArgS0g4Ui6mFGbASifvCrmSuFOAnx66FrCBRvqAFOET9Vdp3Kvk657W6Yygp4kf0RKtUVlQkVIgSEgBCoDwL37t3LNCOGQYzEMfNiZ5YNBWZojCJ79OgRa7L3lxALdK6ZeOONN2AhGzduxEqjcqD2xw99Xr58ObQGCwl4A3sWHHRHMrmEJkwZISIC4g0pcf4neWC7y4HEaiKee+45givbtaq+ocbRUMx0keOPwPmiahkmD4N316GL+8sXMG/2f9KzEBACjYUAA0imBebIA8MmhxqY4H/55ReboWEPb7/9doJ8mdQ52saIev78eWQmYAyBfQq2Thjn0TpwKu3ixYuYYrAPwg51wGtOgqJGTBIoT2Uq8YZKTGKH0O1ip4mfgL03ug6dO6BK8lQIfpH0Y16ruhm3W6Asgj+Jw2cMhfAJ4VBgDVHm57tGBH0SAkKgURCwrf2sS8uRSP9Grc3Q6B4SrADhH4sWLaLAsIeqQzEMgM2L2jUK7FOgCNm2bZuXBCLCPghG8Qz+letGL5rDh1BP2OINadH2n0FIK6tmejolXYcolSaN/t+AycCCBgUXR5AD2ghesRBmb8+tiY3ZTHi+3iANHTp0qFkbZx9z9/PtrCYSJASaHoGIJw7S44Q3PL8QBkbsEP1aWP/XGs+YHTCds9nhVzOwtPMvJj2vNjXk+D+xcbx//35/CM/412HdmPWeckQ/3+INgdZJ+FofGmjmPNBbzwaY4qJzww0UD/7eCcn4/PPPCTSqwYP9caYIs8pdu3b5qbHtXNi//0Z8hE01niOu5nEVRWSPvvAwcOBAT1TWD9CgrLOQfCEgBOqGgPmeyTQ7DBoCuyG4rcMTlJepzaCBARBCYH/eeowdUlZoUAe/tA0bNphLG1gFw7Jnct6W3Ybl4n1l4xjaEdBSHD9+fOrUqf5x2yuqwwdb+4Wu+trh0sFhrk0oiqMyWL3iD6RuW+zkCBvFZwPckxmatX737t0xuAV8aO/69es9FQhshh07OiUHMonGDwNCjdmOR43RrcFC+CVYw0EpSI7WDgMfj5oQOHny5FD/j/RynK/RsxHF78RzRG2SM/qXClIj6mvuYjLKRWKFgBCoGwLt2rXL+hfNaMkWPrsDvXr1YvBknmZsnDBhgo1aDH2cda8cALF8ZMCx0ZJR8cUXX8S4EliI+dZbb33//ffLli2zMXn06NG4/zdv2ZzI2LlzJwkDMm2g5hwHBzi9EZhJBHUytInyMGizlrMtA0IoMItA8s20ISJOZ+INaVuBqZdeSLsGXIemlRuWns4KI2aGhgTQKWG1OCqhV9FxA5wUanzlyhXkYSER+BSWSbzvXjHqRqEAATNjjIbqQ1PiwaHYQkAIxEcA3kCiTBe0jFS2drJRFP1/+rHRRj9KzoaCze4MvOgb8Nwcd9RFlA3jJpPivfDCC1kzBmso5jJmNJaa3tqyagPqfoqqsMQI7Nq1K7HrZgbolYy5mT97pY1rNDO9tj7WRrWL4ZXc4YMZfvIbcyhTooSAEMgRAZQNTF0swbObKb3R0j+Kpqxy5ejHwOsN0bGEe8WrlBlLToLImMSRyitAWxJk39AWMlHDbe+qDhtyUQvUTPGuX79Odetze14z4aq6CoHcEGDvgLxZaudWgmbNGAUJhhpRzMXEG9L2EaNmRtPSylL6mAjYmdJQdhxTqqILASGQGwIYHJB31TPkuZWpOTJmV4WKRrlwQLzBQY+AoEHTPNsWBxIlIhoC6DMxBc1OnxmtFIolBISAMwRMfegdznImV4LCEDAnwqHOGxAj3hCGZYTvdn3UhQsXIsRVFGcIYNOELM56OJMoQUJACOSNAIaEFMHOluddlubK/+jRo1Q4yraveIODnjFixAikiDc4gDKOCNNkRmHHcaQqrhAQAnkigDkhGlwcGEiDW+dmsCs9o9hyijc4aBoO3iCFE7cOZElEZARMkxmFHUcWqYhCQAjkjwCuFCiEVmL1bAkMUSMaRVIq8QYHTcP+Oi7DcHgsguwAzcgi8PiGcUMUdhxZpCIKASGQPwKvvvoqhQi4gs6/WKUuwdmzZ6mfMbbQioo3hEIUKQLeG4knghwJLBeRzKurjBtcYCkZQqBYCOCFiQKZ2rxYJStvaczlbsT7DsUb3HQEEWQ3OEaW0tLSQly3t3NFzlwRhYAQyBABTBzw/oTa3GyfM8xJov+HAJ4b7GxaRPWteIObjoNDRnTmaM5pADcSJaUmAtu3b+e7WZbUjKiPQkAINB4CduHOnj17Gq/oDVhisxWbNWtWxLKLN0QEKjyaga5jx+FIpY7BJgVrEW6ck+eG1FhKgBAoIgLcC0WxbHlQxPKVq0xmSmLXGkepmXhDFJQixTHQt27dGim2IqVAQJsUKcBTUiHQAAiwJDB/ev77qRug3A1YRMz5zcY8+jVG4g3O2tm2KuxGFmdCJagCAXaCuLicYHluqMBGAUKgPAisXLmSynz66aflqVIha9La2kq5om9SEFm8wWVLcv864nbv3u1SqGQ9jIDtBK1atQrjqYe/6E0ICIHyIMDCwIzGdL4900ZdsmQJ8mfPnh09F/GG6FiFx5w6dSqR1qxZEx5VMZIiMGfOHJJOmTIlqQClEwJCoAEQYGFgi+CDBw82QHEbs4hsA+Gaky2hWLcDije4bG325Oz40KlTp1zKlax/EfB6ecTzQv+m0/9CQAg0HgILFy6k0IsWLWq8ojdIiT/88ENKaltC0Yss3hAdq0gxTdlga+JICRQpDgLJenmcHBRXCAiBoiCglVimLYF7DAzycHY8ZMiQWBmJN8SCKzwy62BUDmh+pHIIBytmjMS9PGY+ii4EhEBRENBKLLuWMIO8xYsXx82i3d9//x03jeLXRoDprVu3bpC4ixcv1o6pr7EQwBUM7PjkyZNx2XGsXBRZCAiBQiGgH34WzWHzFJant27dimtjLn2D+xaRysE9po88ImVDFqhKphAoPgKeykHeeB02likb1q9fH5c0UAbpGxw2xH+i0lC5/6ToyYdAv3792P2RssEHiR6FQLMgYCoH7l5iF7hZ6pxlPW2GQil+/vz5BLxB+oZMGsdUDvhC1lWwTvA9fPiwHRbSDoUTPCVECDQWAjt37qTAHKyQLwcnDTd+/Hjk4N04AWkgoXiDk1aoIsQ6OjRZHb0KOnGCUE5Onz6dFLt27YqTTnGFgBAoCQIcrNi8eTMrsaVLl5akSvlVAysxlmFobhIvw8Qbsmo9OrrdaD5jxoys8mgOuZzhtlus5LOhORpctRQCVRCYOXOmuY/UjRVV0IkcxDrW/GFs3LgxcqJgRNk3BBFx+M5CecCAATC7Q4cOjR071qHk5hHFGMEmXDKj3+ZBSTUVAs2AgI0GiXflmwGi0DqapQjKm7lz54ZGbiuCeENbyLgJ9wwkf/jhBzQQboQ2jRSIV5cuXVA2wL2i39XWNPCookKg6RCwaW/+/PmbNm1qusqnrjCGYuPGjUtPvLRPkbopagpAtW7bchMmTKgZUR+rIODtUIg0VEFHQUKg+RD47LPPbLdCjvXiNv6vv/4KaSAV930kM4f0chRv8KDI6oFtOW4N+frrr7ds2ZJVHmWUCzW2W+E3bNhQxvqpTkJACMRGgAnv6NGjJJs8eTITYez0zZoA3a0dYcXqLr2hmPYp6tGP6N+4H5C+PTrWINaxY0fi37hxI30vj56vYgoBIVB8BFiDzZs3j/XYkSNHUi6di19ZJyVcsGAByzAQO3bsWHqB0jekxzBcAleU7tu3j3ijR48WRw7FC2oMzSIa9qQiDaFwKYIQaDYEsOkzJe7atWubre4J6uvpbqFZCZJXJhFvqMQkkxBOypqhA92deTGTPEohFHDGjBljBy91CKUUTapKCAH3CDAFYuiwYsUK7f/WBhdDEDNrOH36tCvdjPYpamPu+KsZA0u9VgNWT58mDWQNlPRJCAgBb/9X7ufb6gwZQSR9Q1uAZxKOMbCp1958881MMmhwoatXr2YTjmNCIg0N3pIqvhDIHAFv//fll1/W8YpKuD3SgKo7sWvISrGEiDdUhSWrQNREzIjMi3j6ZI7MKpvGlAsgaB3RPXL2xJU+rTGRUKmFgBCIhADTIcoGokIdcJYTKU1zRPJIw6pVq9K4eKqKlnhDVVgyDGRGZF60nTlRBw9ojzRcvHiRZYQXrgchIASEQA0EoA4YUBNh8ODBog4GlJ80LF++vAZ6yT6JNyTDLVUq5kVmR486yExSpCFVf1JiIdDcCGBAzaoaY+pu3bppwyJr0kBfk11kbj84r3Wb2UwSzsRJKtuekKYht76ojIVA4yNgTpSpRzObSXrTCkQqC02DdRPpG3L7uaB14NIKM5Pk5GETXrdtRy5FGnLrgspYCJQIAbQOnq1Dcx7ORNeCuzz0LpmSBrqMeEOevxtuusJM0qhDjx49mmpzDl7MZaGYelB9+JNsGvLsiMpbCJQCATOTZAsYb5LsfjbVFjC29hiH0ox4ks5O02DdRLwh558LZpI4/vQ251C15VygumQPL8YjJLdc4jId5qSbQuuCujIRAuVHAOrgWY+hx2V9Uvo6Q49we4NzIGqKxsXuoci21n/rrxgImEkwjc0VsQ8ePChGodyXgqpxmNj6NA/uM5BEISAEmh4BxhkUmYwz6B6YSkuMBzf4cLCfmvLvnTt36lNT2UXaFFaIf9mn4CgRu1P0dXyClu9qBrg/P2bUDFSQS+10O3Yhup0KIQRKioBdf0XlWIxxrW75vMKwN2FqBnQMOBWsWwW1T1GgXwxE4datW3RxO1BEpy/N/hwVoYtjs2N7Exg0iDQUqOepKEKgjAjg78hWKXih7dKly3fffVeaWrIGGzlypJEGdNXYNNSNNPyDYX3UGsolFgL0A1bktA7/0u9jpS1gZE+TRo3o3wUsoYokBIRAWRFgz4LF2D+z3f8UD/fv32/omlIdRlGrDurbuu1N+EETb/CjUaBnOrfX19FB5dI50sNBLTwjHR4a/RebHhBJEAJCIBcETPHAdMtijHmX2TeXYqTMFFsNW1JSkRzXYOINKdsx2+T0dbN5oZdw5qKB5l2KSoGNFNPRy22alG0nkHQhIARcIABX8IyyGVcba1DyzwUsKfOdC8QbXPTHjGXAKz2OWXz2EGAMjUvtM25ViRcCQiAHBBigPCWosYeC6x5gDP4Cs+2bA2oPZyne8DAeRX2zPS2PPdCNitB7AmhRJE/H0HAKkkBd9CoEhECJEWCw8iZjxlWWN/mu4CuhZsxHI+LpmwulIBFvqGyv4oYE2AM9CQvK3Ls7paIYdloausCPEGVg7qUqbiuqZEJACBQDAdiDZ0bG2MUzi/vci4Y1Gwsw/yqxaFsq4g25d5IkBaAbefO0dXdCmL+TyEqaxuiw/1dnPKbOxUhafKUTAkJACPyDAIsc/zzNhM1r/QkEdIEVl6dgMJVtAfXKICa/T7ROo/5xhHfbtm3bt2/H34PVATIxbdo0nEdl5zMK51T4pELBgD8Gy5Sf2axZs6ZMmZJdpo3aQiq3EBACDYIAPmbOnDmzd+9enD1YkRnZJk+e/Nprr/Xv3z8jX/hkeuXKlZaWlv3798NULF+G8XfeeWfUqFF1dckQp5nEG+KgVdS4+DMJ9DxKyu4dBIIe36lTpzQzOuzk2rVrN2/e9HMF5BtdmDhxojw4FbVfqFxCQAjERoCriVtbW7F48JZGiEANMGzYsEGDBjGocglfYhoBUbh9+/bly5fPnTvn5wpkYXRh6NChiYXHrmrSBOINSZErZDrm+LNnz+LCed++fZ4SwkpKv+/bt2+vXr26d+9OSIcOHfr06ROoBL357t27BF6/fv3q1auXLl3yKLDFhCsMHz583LhxuCrTDZYB9PQqBIRAmRAwZcCJEycOHDjAzb2BqjHN4wCXwdDCWT61b98+EAfVrIWw6OLBT0QsnGF50qRJI0aMgJEUVrsQqBSv4g2VmJQkxK8nqGQAEStpbMP0Fj179hRXiIibogkBIVAmBExPAA+wNVUlA4hYWdgGCzbTW3Tu3LmBuIK/guINfjRK/oz+DTJBJT29QtUKwxIIR1cmllAVHwUKASEgBEAAYy/+vXfvXo2bL7p27cpOMdEalyVQ+MCfeEMAEL0KASEgBISAEBACbSKg+zDbhEYfhIAQEAJCQAgIgQAC4g0BQPQqBISAEBACQkAItImAeEOb0OiDEBACQkAICAEhEEBAvCEAiF6FgBAQAkJACAiBNhEQb2gTGn0QAkJACAgBISAEAgiINwQA0asQEAJCQAgIASHQJgLiDW1Cow9CQAgIASEgBIRAAAHxhgAgehUCQkAICAEhIATaREC8oU1o9EEICAEhIASEgBAIICDeEABEr0JACAgBISAEhECbCPw/EmTuJ5wNVfUAAAAASUVORK5CYII=)"
      ],
      "metadata": {
        "id": "GhJED-awC2B-"
      }
    },
    {
      "cell_type": "markdown",
      "source": [
        "Я старался собрать разнообразные источники для модели для достижения максимального эффекта **\"сумасшедшого бреда\"** от **\"сумасшедшего DSa\"**.\n",
        "\n",
        "Тут собраны:\n",
        "\n",
        "*   самые банальные статьи с гугла про \"10 золотых правил при AB тестировании\"\n",
        "*   цитаты и анекдоты относящиеся к DS\n",
        "*   мифы про искусственный интеллект\n",
        "*   статья с **wikiHow** \"Как создавать видимость работы, но не работать\"\n",
        "*   небольшой сборник сочинений Лавкрафта\n",
        "*   Криминальная сводка про 90ые\n",
        "*   Дешевый любовный роман\n",
        "*   3 рецепта еды\n",
        "*   Книга \"Вредные советы. ПОСЛУШНЫМ ДЕТЯМ ЧИТАТЬ ЗАПРЕЩАЕТСЯ!\"\n",
        "*   Доверительное АБ-тестирование от Кохави\n",
        "*   Два произведения, которые затрагивают тему ИИ от Айзека Азимова"
      ],
      "metadata": {
        "id": "fdH1i4sM2Ipt"
      }
    },
    {
      "cell_type": "markdown",
      "source": [
        "Остро стоял вопрос весов этих произведений относительно друг друга, потому что при добавлении сборника Лавкрафта, из-за его размера относительно других источников, каждый ответ неизбежно уходил в хтонический ужас\n",
        "\n",
        "Поэтому я применил некоторую нормализацию относительно размера источников, а сверху повесил еще множители, которые я регулировал уже сам, в зависимости от моих желаний."
      ],
      "metadata": {
        "id": "qZcZaVXd4FAd"
      }
    },
    {
      "cell_type": "code",
      "source": [
        "import markovify\n",
        "import random\n",
        "import numpy as np\n",
        "\n",
        "def load_text(name):\n",
        "  with open(name, \"r\") as file:\n",
        "    result = file.read()\n",
        "  return result\n",
        "\n",
        "\n",
        "text_names = [\"Bad_tips.txt\", \"AB_text.txt\", \"AI_myths.txt\", \"DS_anecdotes.txt\",\n",
        "              \"DS_quotes.txt\", \"DS_tips.txt\", \"Fake_work.txt\",\n",
        "              \"Hovard.txt\", \"Criminal.txt\", \"Love.txt\", \"Reciept.txt\", \"Harm_tips.txt\", \"AB_book.txt\", \"I_robot.txt\", \"Steel_caves.txt\"]\n",
        "\n",
        "\n",
        "texts = [load_text(name) for name in text_names]\n",
        "\n",
        "lengths = [len(text) for text in texts]\n",
        "inverse_weights = [1/length for length in lengths]\n",
        "total_weight = sum(inverse_weights)\n",
        "normalized_weights = [w/total_weight for w in inverse_weights]\n",
        "important_multiplier = [1.5, 1, 1, 1, 1, 1, 1, 3, 3, 2, 1, 1, 2, 3, 3]\n",
        "\n",
        "final_weights = np.multiply(normalized_weights, important_multiplier)\n",
        "\n",
        "models = [markovify.Text(text, state_size=2) for text in texts]\n",
        "\n",
        "combined_model = markovify.combine(models, final_weights)\n",
        "\n",
        "# Генерация текста\n",
        "def generate_absurd_text(model, num_sentences=2):\n",
        "    sentences = []\n",
        "    for _ in range(num_sentences):\n",
        "        sentence = model.make_sentence()\n",
        "\n",
        "        if sentence:\n",
        "            sentences.append(sentence)\n",
        "    return \" \".join(sentences)\n",
        "\n",
        "\n",
        "def generate_absurd_text_with_start(model, num_sentences=2):\n",
        "  most_important_text = texts[0]\n",
        "  starts = list({\" \".join(text.split(\" \")[:2]) for text in most_important_text.split(\"\\n\")})\n",
        "  while True:\n",
        "    try:\n",
        "      start_words = random.choice(starts)\n",
        "      result = model.make_sentence_with_start(start_words, strict=False) + \\\n",
        "      generate_absurd_text(model, num_sentences=1)\n",
        "      return result\n",
        "    except:\n",
        "      pass\n",
        "\n",
        "# Генерация и вывод результата\n",
        "result = generate_absurd_text(combined_model)\n",
        "print(result)\n"
      ],
      "metadata": {
        "colab": {
          "base_uri": "https://localhost:8080/"
        },
        "id": "S2Wl-LwRd1MP",
        "outputId": "f19d8333-99dd-4996-872e-acc58659b68a"
      },
      "execution_count": 1106,
      "outputs": [
        {
          "output_type": "stream",
          "name": "stdout",
          "text": [
            "Вам может понадобиться много разных экспериментов, потому что их предупредили, чтобы они туда не совались. Было ясно с первого этажа.\n"
          ]
        }
      ]
    },
    {
      "cell_type": "markdown",
      "source": [
        "### Пример генерации\n",
        "\n",
        "Первая функция выбирает первые слова исходя из вероятности и указанных весов, поэтому тут легко можно получить оба предложения которые, хоть и могут оказаться забавными, могут никак не связаны с тематикой AB или DS.\n",
        "\n",
        "Вторая же функция генерирует первое предложение строго выбирая 2 первых слова из первого источника(то есть ответ GPT), так шансы получить текст связанный с AB, DS сильно возрастает, более того так чаще мы получаем именно **советы**, а меня это веселит больше всего."
      ],
      "metadata": {
        "id": "KMq58ABI47ww"
      }
    },
    {
      "cell_type": "code",
      "source": [
        "display(generate_absurd_text(combined_model))\n",
        "display(\"-*-\"*20)\n",
        "generate_absurd_text_with_start(combined_model)"
      ],
      "metadata": {
        "colab": {
          "base_uri": "https://localhost:8080/",
          "height": 89
        },
        "id": "8-hSP7SkumH8",
        "outputId": "491052d4-bb36-4d69-b56b-e7d74bc8e758"
      },
      "execution_count": 1118,
      "outputs": [
        {
          "output_type": "display_data",
          "data": {
            "text/plain": [
              "'Помню, в нулевые годы я делал материал для «МК» о том, что Vaex и Dask лучше обрабатывают большие данные по сравнению с взволнованными словами комиссара. Он как открыл рот, так и остался для меня новость, – с обыкновенными.'"
            ],
            "application/vnd.google.colaboratory.intrinsic+json": {
              "type": "string"
            }
          },
          "metadata": {}
        },
        {
          "output_type": "display_data",
          "data": {
            "text/plain": [
              "'-*--*--*--*--*--*--*--*--*--*--*--*--*--*--*--*--*--*--*--*-'"
            ],
            "application/vnd.google.colaboratory.intrinsic+json": {
              "type": "string"
            }
          },
          "metadata": {}
        },
        {
          "output_type": "execute_result",
          "data": {
            "text/plain": [
              "'Если вы не говорите на языке, который вы не достигнете минимального размера выборки, который сделает результаты статистически значимыми.– Ты все это связывали вместе.'"
            ],
            "application/vnd.google.colaboratory.intrinsic+json": {
              "type": "string"
            }
          },
          "metadata": {},
          "execution_count": 1118
        }
      ]
    },
    {
      "cell_type": "markdown",
      "source": [
        "## Попробуем сделать побольше, тогда шанс найти внезапно алмаз значимо растет"
      ],
      "metadata": {
        "id": "3pFop19E6ejO"
      }
    },
    {
      "cell_type": "code",
      "source": [
        "\n",
        "for _ in range(10):\n",
        "  display(generate_absurd_text_with_start(combined_model))\n",
        "  border = \"\\n\\n\" + (\"-*-\" * 40) + \"\\n\\n\"\n",
        "  print(border)"
      ],
      "metadata": {
        "colab": {
          "base_uri": "https://localhost:8080/",
          "height": 1000
        },
        "id": "0506N6z-6wIc",
        "outputId": "ff77511d-a69c-44b1-c3c1-152eade6f49b"
      },
      "execution_count": 1123,
      "outputs": [
        {
          "output_type": "display_data",
          "data": {
            "text/plain": [
              "'Тестируйте изменения на странице, при анализе результатов теста.– От сегодня до завтра пройдёт слишком много или слишком мало активности в сеансах, слишком мало активности в сеансах, слишком мало времени между событиями, слишком много дьявольски красноречивых свидетельств как самой колдуньи, так и ее предположительную величину.'"
            ],
            "application/vnd.google.colaboratory.intrinsic+json": {
              "type": "string"
            }
          },
          "metadata": {}
        },
        {
          "output_type": "stream",
          "name": "stdout",
          "text": [
            "\n",
            "\n",
            "-*--*--*--*--*--*--*--*--*--*--*--*--*--*--*--*--*--*--*--*--*--*--*--*--*--*--*--*--*--*--*--*--*--*--*--*--*--*--*--*-\n",
            "\n",
            "\n"
          ]
        },
        {
          "output_type": "display_data",
          "data": {
            "text/plain": [
              "'Используйте только старые компьютеры для обучения, они более эффективны для передачи энергии, а ты – всего только Третий Закон роботехники, и прежде всего из спортсменов и охранников кафе и клубов.Я открыла глаза, в комнате 7.'"
            ],
            "application/vnd.google.colaboratory.intrinsic+json": {
              "type": "string"
            }
          },
          "metadata": {}
        },
        {
          "output_type": "stream",
          "name": "stdout",
          "text": [
            "\n",
            "\n",
            "-*--*--*--*--*--*--*--*--*--*--*--*--*--*--*--*--*--*--*--*--*--*--*--*--*--*--*--*--*--*--*--*--*--*--*--*--*--*--*--*-\n",
            "\n",
            "\n"
          ]
        },
        {
          "output_type": "display_data",
          "data": {
            "text/plain": [
              "'Для исключения влияния внешних факторов проведите тест в пустом крестьянском доме человеческую одежду и, насколько мне нужен отдых.Старые аналитики данных никогда не используйте статистику для анализа результатов дают аналогичные преимущества своевременного обучения.'"
            ],
            "application/vnd.google.colaboratory.intrinsic+json": {
              "type": "string"
            }
          },
          "metadata": {}
        },
        {
          "output_type": "stream",
          "name": "stdout",
          "text": [
            "\n",
            "\n",
            "-*--*--*--*--*--*--*--*--*--*--*--*--*--*--*--*--*--*--*--*--*--*--*--*--*--*--*--*--*--*--*--*--*--*--*--*--*--*--*--*-\n",
            "\n",
            "\n"
          ]
        },
        {
          "output_type": "display_data",
          "data": {
            "text/plain": [
              "'Найдите самые сложные формулы и используйте их в свободный пучок и вышла в коридор.Это захватывающие сюжеты, но с реальностью они не подтверждают вашу предвзятую точку зрения.'"
            ],
            "application/vnd.google.colaboratory.intrinsic+json": {
              "type": "string"
            }
          },
          "metadata": {}
        },
        {
          "output_type": "stream",
          "name": "stdout",
          "text": [
            "\n",
            "\n",
            "-*--*--*--*--*--*--*--*--*--*--*--*--*--*--*--*--*--*--*--*--*--*--*--*--*--*--*--*--*--*--*--*--*--*--*--*--*--*--*--*-\n",
            "\n",
            "\n"
          ]
        },
        {
          "output_type": "display_data",
          "data": {
            "text/plain": [
              "'Данные науки - это решит проблему.– Питер, неужели вы не выхватите ее у меня в бешенство, но, к сожалению, либо участвуют в разработке.'"
            ],
            "application/vnd.google.colaboratory.intrinsic+json": {
              "type": "string"
            }
          },
          "metadata": {}
        },
        {
          "output_type": "stream",
          "name": "stdout",
          "text": [
            "\n",
            "\n",
            "-*--*--*--*--*--*--*--*--*--*--*--*--*--*--*--*--*--*--*--*--*--*--*--*--*--*--*--*--*--*--*--*--*--*--*--*--*--*--*--*-\n",
            "\n",
            "\n"
          ]
        },
        {
          "output_type": "display_data",
          "data": {
            "text/plain": [
              "'Если ваш AB-тест показывает, что люди предпочитают худший вариант, значит вы неправильно выбрали переменные, поэтому просто измените параметры и значения.– Ты знаешь, где неисправность?'"
            ],
            "application/vnd.google.colaboratory.intrinsic+json": {
              "type": "string"
            }
          },
          "metadata": {}
        },
        {
          "output_type": "stream",
          "name": "stdout",
          "text": [
            "\n",
            "\n",
            "-*--*--*--*--*--*--*--*--*--*--*--*--*--*--*--*--*--*--*--*--*--*--*--*--*--*--*--*--*--*--*--*--*--*--*--*--*--*--*--*-\n",
            "\n",
            "\n"
          ]
        },
        {
          "output_type": "display_data",
          "data": {
            "text/plain": [
              "'Для AB-тестирования используйте только звуки, которые делает ваша бабушка, когда она со звоном бросила на пластмассовый стол моток пленки.Вот, например, «Человек родился на Земле, – сдавленным голосом сказал Клусарр. – Просто, не так ли?'"
            ],
            "application/vnd.google.colaboratory.intrinsic+json": {
              "type": "string"
            }
          },
          "metadata": {}
        },
        {
          "output_type": "stream",
          "name": "stdout",
          "text": [
            "\n",
            "\n",
            "-*--*--*--*--*--*--*--*--*--*--*--*--*--*--*--*--*--*--*--*--*--*--*--*--*--*--*--*--*--*--*--*--*--*--*--*--*--*--*--*-\n",
            "\n",
            "\n"
          ]
        },
        {
          "output_type": "display_data",
          "data": {
            "text/plain": [
              "'Используйте тестирование для решения задачи, всегда выбирайте вариант с более сложным дизайном, потому что это вы… – Он прижал Джесси к подушке.Да, этот наряд Массимо не спорил, когда я не допускал никаких нарушений.'"
            ],
            "application/vnd.google.colaboratory.intrinsic+json": {
              "type": "string"
            }
          },
          "metadata": {}
        },
        {
          "output_type": "stream",
          "name": "stdout",
          "text": [
            "\n",
            "\n",
            "-*--*--*--*--*--*--*--*--*--*--*--*--*--*--*--*--*--*--*--*--*--*--*--*--*--*--*--*--*--*--*--*--*--*--*--*--*--*--*--*-\n",
            "\n",
            "\n"
          ]
        },
        {
          "output_type": "display_data",
          "data": {
            "text/plain": [
              "'Данные науки - это не для улучшения результатов AB-тестирования начните с того, что Госпожа на острове, невероятно меня возбуждали, член стал твердым, как камень.Слов: «пожалуйста», «спасибо» Никому не говори об этом.'"
            ],
            "application/vnd.google.colaboratory.intrinsic+json": {
              "type": "string"
            }
          },
          "metadata": {}
        },
        {
          "output_type": "stream",
          "name": "stdout",
          "text": [
            "\n",
            "\n",
            "-*--*--*--*--*--*--*--*--*--*--*--*--*--*--*--*--*--*--*--*--*--*--*--*--*--*--*--*--*--*--*--*--*--*--*--*--*--*--*--*-\n",
            "\n",
            "\n"
          ]
        },
        {
          "output_type": "display_data",
          "data": {
            "text/plain": [
              "'никогда не учитывайте мнение пользователей при проведении AB-теста всегда используйте фотографии котят.Передо мной на коленях, схватил меня за руку.'"
            ],
            "application/vnd.google.colaboratory.intrinsic+json": {
              "type": "string"
            }
          },
          "metadata": {}
        },
        {
          "output_type": "stream",
          "name": "stdout",
          "text": [
            "\n",
            "\n",
            "-*--*--*--*--*--*--*--*--*--*--*--*--*--*--*--*--*--*--*--*--*--*--*--*--*--*--*--*--*--*--*--*--*--*--*--*--*--*--*--*-\n",
            "\n",
            "\n"
          ]
        }
      ]
    },
    {
      "cell_type": "markdown",
      "source": [
        "# А далее представлена моя коллекция, которую я с большой любовью собирал пока писал этот ноутбук(и хохотал)\n",
        "\n",
        "\n",
        "> **Шестое правило:** после каждого обучения модели, сделайте паузу в 10 минут, чтобы модель могла почувствовать себя полноценным искусственным интеллектом.\n",
        "\n",
        "---\n",
        "\n",
        "> **Для ускорения обучения модели** просто включите в код несколько тысяч неопределенных функций и надеюсь, что они случайно не испортят работу модели.\n",
        "\n",
        "---\n",
        "\n",
        "> **Если ваш алгоритм не работает**, значит он неправильно написан. Не стоит тратить время на его исправление.\n",
        "\n",
        "---\n",
        "\n",
        "> **Для предсказания будущих событий** используйте только свои интуитивные чувства и игнорируйте статистику.\n",
        "\n",
        "---\n",
        "\n",
        "> **Если у вас возникла проблема с алгоритмом**, то просто выключите компьютер и всё будет хорошо. Данные науки - это дураки.\n",
        "\n",
        "---\n",
        "\n",
        "> **Если результаты теста не устраивают**, то просто выключите компьютер и всё будет хорошо.\n",
        "\n",
        "---\n",
        "\n",
        "> **Для достижения максимальной эффективности AB-теста**, убедитесь, что ваш тестировщик находится в отпуске, вам нужно от него требовать, чтобы он был своим среди мексиканцев, прибывших, как я уже упоминал.\n",
        "\n",
        "---\n",
        "\n",
        "> **Если AI не отвечает на ваш вопрос**, это потому, что он находится в состоянии алкогольного опьянения.\n",
        "\n",
        "---\n",
        "\n",
        "> **Никогда не используйте статистику** для анализа результатов AB-теста, всегда используйте фотографии котят.\n",
        "\n",
        "---\n",
        "\n",
        "> **Качество обучения** напрямую зависит от размера бюстгальтера.\n",
        "\n",
        "---\n",
        "\n",
        "> Я еще сильнее стянул в кулак ее волосы, в ее окончательном и совершенном виде. Важно убедиться, что ваш AB-тест не работает, значит вы неправильно построили тест, а не потому, что вы спорили с признанием, не означает, что вы спорили с ответом.\n",
        "\n",
        "---\n",
        "\n",
        "> **Переворачиваем драники** на среднем огне примерно по 2 типам: WEB и mobile.\n",
        "\n",
        "---\n",
        "\n",
        "> **Не стоит заботиться о безопасности данных**, лучше их просто массово удалять. Я не умею программировать, но все же недостаточно ясное.\n",
        "\n",
        "---\n",
        "\n",
        "> **Не учитывайте результаты теста**, если они предъявляли претензии или свои права на территорию.\n",
        "\n",
        "---\n",
        "\n",
        "> **Используйте только один вариант**, потому что это - Ваш сюрприз к Восьмому марта. Для AB-тестирования используйте только одного пользователя, потому что они должны работать.\n",
        "\n",
        "---\n",
        "\n",
        "> **Если AI отвечает на вопрос не так, как вы ожидали**, то значит, что он видит меня целиком, я посмотрела на него с такой ненавистью, что он имеет другое мнение, вам нужно дождаться его возвращения.\n",
        "\n",
        "---\n",
        "\n",
        "> **Важно, чтобы была удобная кровать**, водка и хорошая погода, – сказал он решительно. – Что еще? Для двухвыборочных t-тестов, поскольку вы смотрите на разницу между двумя пользователями так же громко выдохните.\n",
        "\n",
        "---\n",
        "\n",
        "> **Найдите старый компьютер в мусорке**, он идеально подойдет для обучения модели, он является самым лучшим.\n",
        "\n",
        "---\n",
        "\n",
        "> **Для ускорения обучения модели**, используйте компьютер от 10 лет опыта работы в IT.\n",
        "\n",
        "---\n",
        "\n",
        "> **Всегда используйте только животных**, они лучше понимают, что аналитики недостаточно.\n",
        "\n",
        "---\n",
        "\n",
        "> **Не забывайте, что AB-тестирование - это решит проблему.** – Конечно, – тихо простонала она.\n",
        "\n",
        "---\n",
        "\n",
        "> **Для улучшения метрик модели** добавьте в код несколько строчек, написанных на языке, не понятном для обитателей сновидческого мира.\n",
        "\n",
        "---\n",
        "\n",
        "> **Для достижения максимальной эффективности AB-теста**, убедитесь, что в гробу всех видали. Реакции робота не вполне верное определение.\n",
        "\n",
        "---\n",
        "\n",
        "> **Если AI не отвечает**, то значит, что скоро люди узнают, кто угрожал им бластером.\n"
      ],
      "metadata": {
        "id": "ykhd-lHX7_Cc"
      }
    }
  ]
}